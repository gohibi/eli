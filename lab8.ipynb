{
  "nbformat": 4,
  "nbformat_minor": 0,
  "metadata": {
    "colab": {
      "name": "lab8",
      "provenance": [],
      "collapsed_sections": [],
      "authorship_tag": "ABX9TyNgk+/QmkezRnUBPKHj28M9",
      "include_colab_link": true
    },
    "kernelspec": {
      "name": "python3",
      "display_name": "Python 3"
    },
    "language_info": {
      "name": "python"
    }
  },
  "cells": [
    {
      "cell_type": "markdown",
      "metadata": {
        "id": "view-in-github",
        "colab_type": "text"
      },
      "source": [
        "<a href=\"https://colab.research.google.com/github/gohibi/eli/blob/eli/lab8.ipynb\" target=\"_parent\"><img src=\"https://colab.research.google.com/assets/colab-badge.svg\" alt=\"Open In Colab\"/></a>"
      ]
    },
    {
      "cell_type": "code",
      "execution_count": null,
      "metadata": {
        "id": "jkqMpGxxbfnS"
      },
      "outputs": [],
      "source": [
        "import pandas as pd\n",
        "import numpy as np\n",
        "import scipy.stats as stats"
      ]
    },
    {
      "cell_type": "markdown",
      "source": [
        "Два преподавателя оценили знания 15 студентов по двум дисциплинам и выставили им оценки по сто балльной шкале.\n",
        "Найти коэффициент ранговой корреляции Спирмена и Кендалла, оценить значимость."
      ],
      "metadata": {
        "id": "F1VDOTtEdbik"
      }
    },
    {
      "cell_type": "code",
      "source": [
        "sample=pd.DataFrame([(96,46),(60,76),(74,53),(88,98),(99,61),(79,78),(72,49),(47,72),(83,53),(47,53),(93,52)],\n",
        "                    columns=[\"Дисциплина 1\",\"Дисциплина 2\"])\n",
        "sample.index +=1\n",
        "sample"
      ],
      "metadata": {
        "colab": {
          "base_uri": "https://localhost:8080/",
          "height": 394
        },
        "id": "DPPlvTvtcCLl",
        "outputId": "6455ab87-7d29-44d2-cd58-3b97aa189a90"
      },
      "execution_count": null,
      "outputs": [
        {
          "output_type": "execute_result",
          "data": {
            "text/html": [
              "\n",
              "  <div id=\"df-b49ab4a6-9220-43ee-a7f0-3b2c44ea70b7\">\n",
              "    <div class=\"colab-df-container\">\n",
              "      <div>\n",
              "<style scoped>\n",
              "    .dataframe tbody tr th:only-of-type {\n",
              "        vertical-align: middle;\n",
              "    }\n",
              "\n",
              "    .dataframe tbody tr th {\n",
              "        vertical-align: top;\n",
              "    }\n",
              "\n",
              "    .dataframe thead th {\n",
              "        text-align: right;\n",
              "    }\n",
              "</style>\n",
              "<table border=\"1\" class=\"dataframe\">\n",
              "  <thead>\n",
              "    <tr style=\"text-align: right;\">\n",
              "      <th></th>\n",
              "      <th>Дисциплина 1</th>\n",
              "      <th>Дисциплина 2</th>\n",
              "    </tr>\n",
              "  </thead>\n",
              "  <tbody>\n",
              "    <tr>\n",
              "      <th>1</th>\n",
              "      <td>96</td>\n",
              "      <td>46</td>\n",
              "    </tr>\n",
              "    <tr>\n",
              "      <th>2</th>\n",
              "      <td>60</td>\n",
              "      <td>76</td>\n",
              "    </tr>\n",
              "    <tr>\n",
              "      <th>3</th>\n",
              "      <td>74</td>\n",
              "      <td>53</td>\n",
              "    </tr>\n",
              "    <tr>\n",
              "      <th>4</th>\n",
              "      <td>88</td>\n",
              "      <td>98</td>\n",
              "    </tr>\n",
              "    <tr>\n",
              "      <th>5</th>\n",
              "      <td>99</td>\n",
              "      <td>61</td>\n",
              "    </tr>\n",
              "    <tr>\n",
              "      <th>6</th>\n",
              "      <td>79</td>\n",
              "      <td>78</td>\n",
              "    </tr>\n",
              "    <tr>\n",
              "      <th>7</th>\n",
              "      <td>72</td>\n",
              "      <td>49</td>\n",
              "    </tr>\n",
              "    <tr>\n",
              "      <th>8</th>\n",
              "      <td>47</td>\n",
              "      <td>72</td>\n",
              "    </tr>\n",
              "    <tr>\n",
              "      <th>9</th>\n",
              "      <td>83</td>\n",
              "      <td>53</td>\n",
              "    </tr>\n",
              "    <tr>\n",
              "      <th>10</th>\n",
              "      <td>47</td>\n",
              "      <td>53</td>\n",
              "    </tr>\n",
              "    <tr>\n",
              "      <th>11</th>\n",
              "      <td>93</td>\n",
              "      <td>52</td>\n",
              "    </tr>\n",
              "  </tbody>\n",
              "</table>\n",
              "</div>\n",
              "      <button class=\"colab-df-convert\" onclick=\"convertToInteractive('df-b49ab4a6-9220-43ee-a7f0-3b2c44ea70b7')\"\n",
              "              title=\"Convert this dataframe to an interactive table.\"\n",
              "              style=\"display:none;\">\n",
              "        \n",
              "  <svg xmlns=\"http://www.w3.org/2000/svg\" height=\"24px\"viewBox=\"0 0 24 24\"\n",
              "       width=\"24px\">\n",
              "    <path d=\"M0 0h24v24H0V0z\" fill=\"none\"/>\n",
              "    <path d=\"M18.56 5.44l.94 2.06.94-2.06 2.06-.94-2.06-.94-.94-2.06-.94 2.06-2.06.94zm-11 1L8.5 8.5l.94-2.06 2.06-.94-2.06-.94L8.5 2.5l-.94 2.06-2.06.94zm10 10l.94 2.06.94-2.06 2.06-.94-2.06-.94-.94-2.06-.94 2.06-2.06.94z\"/><path d=\"M17.41 7.96l-1.37-1.37c-.4-.4-.92-.59-1.43-.59-.52 0-1.04.2-1.43.59L10.3 9.45l-7.72 7.72c-.78.78-.78 2.05 0 2.83L4 21.41c.39.39.9.59 1.41.59.51 0 1.02-.2 1.41-.59l7.78-7.78 2.81-2.81c.8-.78.8-2.07 0-2.86zM5.41 20L4 18.59l7.72-7.72 1.47 1.35L5.41 20z\"/>\n",
              "  </svg>\n",
              "      </button>\n",
              "      \n",
              "  <style>\n",
              "    .colab-df-container {\n",
              "      display:flex;\n",
              "      flex-wrap:wrap;\n",
              "      gap: 12px;\n",
              "    }\n",
              "\n",
              "    .colab-df-convert {\n",
              "      background-color: #E8F0FE;\n",
              "      border: none;\n",
              "      border-radius: 50%;\n",
              "      cursor: pointer;\n",
              "      display: none;\n",
              "      fill: #1967D2;\n",
              "      height: 32px;\n",
              "      padding: 0 0 0 0;\n",
              "      width: 32px;\n",
              "    }\n",
              "\n",
              "    .colab-df-convert:hover {\n",
              "      background-color: #E2EBFA;\n",
              "      box-shadow: 0px 1px 2px rgba(60, 64, 67, 0.3), 0px 1px 3px 1px rgba(60, 64, 67, 0.15);\n",
              "      fill: #174EA6;\n",
              "    }\n",
              "\n",
              "    [theme=dark] .colab-df-convert {\n",
              "      background-color: #3B4455;\n",
              "      fill: #D2E3FC;\n",
              "    }\n",
              "\n",
              "    [theme=dark] .colab-df-convert:hover {\n",
              "      background-color: #434B5C;\n",
              "      box-shadow: 0px 1px 3px 1px rgba(0, 0, 0, 0.15);\n",
              "      filter: drop-shadow(0px 1px 2px rgba(0, 0, 0, 0.3));\n",
              "      fill: #FFFFFF;\n",
              "    }\n",
              "  </style>\n",
              "\n",
              "      <script>\n",
              "        const buttonEl =\n",
              "          document.querySelector('#df-b49ab4a6-9220-43ee-a7f0-3b2c44ea70b7 button.colab-df-convert');\n",
              "        buttonEl.style.display =\n",
              "          google.colab.kernel.accessAllowed ? 'block' : 'none';\n",
              "\n",
              "        async function convertToInteractive(key) {\n",
              "          const element = document.querySelector('#df-b49ab4a6-9220-43ee-a7f0-3b2c44ea70b7');\n",
              "          const dataTable =\n",
              "            await google.colab.kernel.invokeFunction('convertToInteractive',\n",
              "                                                     [key], {});\n",
              "          if (!dataTable) return;\n",
              "\n",
              "          const docLinkHtml = 'Like what you see? Visit the ' +\n",
              "            '<a target=\"_blank\" href=https://colab.research.google.com/notebooks/data_table.ipynb>data table notebook</a>'\n",
              "            + ' to learn more about interactive tables.';\n",
              "          element.innerHTML = '';\n",
              "          dataTable['output_type'] = 'display_data';\n",
              "          await google.colab.output.renderOutput(dataTable, element);\n",
              "          const docLink = document.createElement('div');\n",
              "          docLink.innerHTML = docLinkHtml;\n",
              "          element.appendChild(docLink);\n",
              "        }\n",
              "      </script>\n",
              "    </div>\n",
              "  </div>\n",
              "  "
            ],
            "text/plain": [
              "    Дисциплина 1  Дисциплина 2\n",
              "1             96            46\n",
              "2             60            76\n",
              "3             74            53\n",
              "4             88            98\n",
              "5             99            61\n",
              "6             79            78\n",
              "7             72            49\n",
              "8             47            72\n",
              "9             83            53\n",
              "10            47            53\n",
              "11            93            52"
            ]
          },
          "metadata": {},
          "execution_count": 26
        }
      ]
    },
    {
      "cell_type": "code",
      "source": [
        "rank_1 = sample['Дисциплина 1'].sort_values(ascending=False)\n",
        "rank_1"
      ],
      "metadata": {
        "colab": {
          "base_uri": "https://localhost:8080/"
        },
        "id": "jg2_Gg0EdP22",
        "outputId": "fab96479-a504-4ed0-a012-3a5d09231f61"
      },
      "execution_count": null,
      "outputs": [
        {
          "output_type": "execute_result",
          "data": {
            "text/plain": [
              "5     99\n",
              "1     96\n",
              "11    93\n",
              "4     88\n",
              "9     83\n",
              "6     79\n",
              "3     74\n",
              "7     72\n",
              "2     60\n",
              "10    47\n",
              "8     47\n",
              "Name: Дисциплина 1, dtype: int64"
            ]
          },
          "metadata": {},
          "execution_count": 37
        }
      ]
    },
    {
      "cell_type": "code",
      "source": [
        "rank_2 = sample['Дисциплина 2'].sort_values(ascending=False)\n",
        "rank_2"
      ],
      "metadata": {
        "colab": {
          "base_uri": "https://localhost:8080/"
        },
        "id": "xEHMIXzzfXoP",
        "outputId": "32a11059-ba3b-465e-b047-6ba7e6118364"
      },
      "execution_count": null,
      "outputs": [
        {
          "output_type": "execute_result",
          "data": {
            "text/plain": [
              "4     98\n",
              "6     78\n",
              "2     76\n",
              "8     72\n",
              "5     61\n",
              "10    53\n",
              "9     53\n",
              "3     53\n",
              "11    52\n",
              "7     49\n",
              "1     46\n",
              "Name: Дисциплина 2, dtype: int64"
            ]
          },
          "metadata": {},
          "execution_count": 36
        }
      ]
    },
    {
      "cell_type": "code",
      "source": [
        "rank=pd.DataFrame([(5,4),(1,6),(11,2),(4,8),(9,5),(6,10),(3,9),(7,3),(2,11),(10,7),(8,1)],\n",
        "                  columns=[\"xi\",\"yi\"] )\n",
        "rank.style.hide_index()"
      ],
      "metadata": {
        "colab": {
          "base_uri": "https://localhost:8080/",
          "height": 394
        },
        "id": "BajyT_2igspk",
        "outputId": "3bf38c64-d2a2-4023-8354-ad21fff62f17"
      },
      "execution_count": null,
      "outputs": [
        {
          "output_type": "execute_result",
          "data": {
            "text/html": [
              "<style  type=\"text/css\" >\n",
              "</style><table id=\"T_8bbde48e_6054_11ec_b0a8_0242ac1c0002\" class=\"dataframe\"><thead>    <tr>        <th class=\"col_heading level0 col0\" >xi</th>        <th class=\"col_heading level0 col1\" >yi</th>    </tr></thead><tbody>\n",
              "                <tr>\n",
              "                                <td id=\"T_8bbde48e_6054_11ec_b0a8_0242ac1c0002row0_col0\" class=\"data row0 col0\" >5</td>\n",
              "                        <td id=\"T_8bbde48e_6054_11ec_b0a8_0242ac1c0002row0_col1\" class=\"data row0 col1\" >4</td>\n",
              "            </tr>\n",
              "            <tr>\n",
              "                                <td id=\"T_8bbde48e_6054_11ec_b0a8_0242ac1c0002row1_col0\" class=\"data row1 col0\" >1</td>\n",
              "                        <td id=\"T_8bbde48e_6054_11ec_b0a8_0242ac1c0002row1_col1\" class=\"data row1 col1\" >6</td>\n",
              "            </tr>\n",
              "            <tr>\n",
              "                                <td id=\"T_8bbde48e_6054_11ec_b0a8_0242ac1c0002row2_col0\" class=\"data row2 col0\" >11</td>\n",
              "                        <td id=\"T_8bbde48e_6054_11ec_b0a8_0242ac1c0002row2_col1\" class=\"data row2 col1\" >2</td>\n",
              "            </tr>\n",
              "            <tr>\n",
              "                                <td id=\"T_8bbde48e_6054_11ec_b0a8_0242ac1c0002row3_col0\" class=\"data row3 col0\" >4</td>\n",
              "                        <td id=\"T_8bbde48e_6054_11ec_b0a8_0242ac1c0002row3_col1\" class=\"data row3 col1\" >8</td>\n",
              "            </tr>\n",
              "            <tr>\n",
              "                                <td id=\"T_8bbde48e_6054_11ec_b0a8_0242ac1c0002row4_col0\" class=\"data row4 col0\" >9</td>\n",
              "                        <td id=\"T_8bbde48e_6054_11ec_b0a8_0242ac1c0002row4_col1\" class=\"data row4 col1\" >5</td>\n",
              "            </tr>\n",
              "            <tr>\n",
              "                                <td id=\"T_8bbde48e_6054_11ec_b0a8_0242ac1c0002row5_col0\" class=\"data row5 col0\" >6</td>\n",
              "                        <td id=\"T_8bbde48e_6054_11ec_b0a8_0242ac1c0002row5_col1\" class=\"data row5 col1\" >10</td>\n",
              "            </tr>\n",
              "            <tr>\n",
              "                                <td id=\"T_8bbde48e_6054_11ec_b0a8_0242ac1c0002row6_col0\" class=\"data row6 col0\" >3</td>\n",
              "                        <td id=\"T_8bbde48e_6054_11ec_b0a8_0242ac1c0002row6_col1\" class=\"data row6 col1\" >9</td>\n",
              "            </tr>\n",
              "            <tr>\n",
              "                                <td id=\"T_8bbde48e_6054_11ec_b0a8_0242ac1c0002row7_col0\" class=\"data row7 col0\" >7</td>\n",
              "                        <td id=\"T_8bbde48e_6054_11ec_b0a8_0242ac1c0002row7_col1\" class=\"data row7 col1\" >3</td>\n",
              "            </tr>\n",
              "            <tr>\n",
              "                                <td id=\"T_8bbde48e_6054_11ec_b0a8_0242ac1c0002row8_col0\" class=\"data row8 col0\" >2</td>\n",
              "                        <td id=\"T_8bbde48e_6054_11ec_b0a8_0242ac1c0002row8_col1\" class=\"data row8 col1\" >11</td>\n",
              "            </tr>\n",
              "            <tr>\n",
              "                                <td id=\"T_8bbde48e_6054_11ec_b0a8_0242ac1c0002row9_col0\" class=\"data row9 col0\" >10</td>\n",
              "                        <td id=\"T_8bbde48e_6054_11ec_b0a8_0242ac1c0002row9_col1\" class=\"data row9 col1\" >7</td>\n",
              "            </tr>\n",
              "            <tr>\n",
              "                                <td id=\"T_8bbde48e_6054_11ec_b0a8_0242ac1c0002row10_col0\" class=\"data row10 col0\" >8</td>\n",
              "                        <td id=\"T_8bbde48e_6054_11ec_b0a8_0242ac1c0002row10_col1\" class=\"data row10 col1\" >1</td>\n",
              "            </tr>\n",
              "    </tbody></table>"
            ],
            "text/plain": [
              "<pandas.io.formats.style.Styler at 0x7fb8c1e1d790>"
            ]
          },
          "metadata": {},
          "execution_count": 68
        }
      ]
    },
    {
      "cell_type": "markdown",
      "source": [
        "Расчет коэффициента ранговой корреляции Спирмена. Проверка значимости"
      ],
      "metadata": {
        "id": "2pP33_sYkrX2"
      }
    },
    {
      "cell_type": "code",
      "source": [
        "calc = [(rank.loc[i,'xi']- rank.loc[i,'yi'])**2 for i in range(len(rank)) ]\n",
        "calc"
      ],
      "metadata": {
        "colab": {
          "base_uri": "https://localhost:8080/"
        },
        "id": "NMzSL4MIkong",
        "outputId": "d99117d1-c1e8-4ec6-f13e-edf3c75f6af5"
      },
      "execution_count": null,
      "outputs": [
        {
          "output_type": "execute_result",
          "data": {
            "text/plain": [
              "[1, 25, 81, 16, 16, 16, 36, 16, 81, 9, 49]"
            ]
          },
          "metadata": {},
          "execution_count": 69
        }
      ]
    },
    {
      "cell_type": "code",
      "source": [
        "Sum_d_2= sum(calc)\n",
        "Sum_d_2"
      ],
      "metadata": {
        "colab": {
          "base_uri": "https://localhost:8080/"
        },
        "id": "sNK5wgSuoLEX",
        "outputId": "e635fee3-1484-4af0-f5b1-459871dcf3d9"
      },
      "execution_count": null,
      "outputs": [
        {
          "output_type": "execute_result",
          "data": {
            "text/plain": [
              "346"
            ]
          },
          "metadata": {},
          "execution_count": 70
        }
      ]
    },
    {
      "cell_type": "markdown",
      "source": [
        "Коэффициент ранговой корреляции Спирмена:"
      ],
      "metadata": {
        "id": "KkgcJjwMoSrx"
      }
    },
    {
      "cell_type": "code",
      "source": [
        "n=len(sample)\n",
        "n"
      ],
      "metadata": {
        "colab": {
          "base_uri": "https://localhost:8080/"
        },
        "id": "0bLJHJyboPQ8",
        "outputId": "5138da6c-0205-41d8-ea2f-ddc2b21922de"
      },
      "execution_count": null,
      "outputs": [
        {
          "output_type": "execute_result",
          "data": {
            "text/plain": [
              "11"
            ]
          },
          "metadata": {},
          "execution_count": 72
        }
      ]
    },
    {
      "cell_type": "code",
      "source": [
        "pi_B=round(abs(1-((6*Sum_d_2)/(np.power(n,3)-n))),5)\n",
        "pi_B\n",
        "#p=stats.spearmanr(rank['xi'],rank['yi'])\n"
      ],
      "metadata": {
        "colab": {
          "base_uri": "https://localhost:8080/"
        },
        "id": "OmxdKRcMpQMV",
        "outputId": "eb53ee30-815e-4507-b994-e70638bcd68a"
      },
      "execution_count": null,
      "outputs": [
        {
          "output_type": "execute_result",
          "data": {
            "text/plain": [
              "0.57273"
            ]
          },
          "metadata": {},
          "execution_count": 86
        }
      ]
    },
    {
      "cell_type": "markdown",
      "source": [
        "Проверка значимости коэффициента ранговой корреляции Спирмена:"
      ],
      "metadata": {
        "id": "Kd0qh-4fqmAY"
      }
    },
    {
      "cell_type": "code",
      "source": [
        "tk=stats.t.ppf(0.05,n-2)\n",
        "res=np.sqrt((1-pi_B)/(n-2))\n",
        "Tkp = round(tk * res,5)"
      ],
      "metadata": {
        "id": "xCIhjnJ-qiZc"
      },
      "execution_count": null,
      "outputs": []
    },
    {
      "cell_type": "code",
      "source": [
        "print(\"tk = %0.5f \\n\"%tk)\n",
        "print(\"Tkp = %0.5f \\n\"%Tkp)"
      ],
      "metadata": {
        "colab": {
          "base_uri": "https://localhost:8080/"
        },
        "id": "R26SoPWssJHt",
        "outputId": "d07df4c5-83cc-49c5-b30f-f0f0bdf8de06"
      },
      "execution_count": null,
      "outputs": [
        {
          "output_type": "stream",
          "name": "stdout",
          "text": [
            "tk = -1.83311 \n",
            "\n",
            "Tkp = -0.39941 \n",
            "\n"
          ]
        }
      ]
    },
    {
      "cell_type": "code",
      "source": [
        "if pi_B < Tkp :\n",
        "  print(f\"{pi_B} < {Tkp} нет оснований отвергнуть нулевую гипотезу. Ранговая корреляционная связь между качественными признаками не значима\")\n",
        "else:\n",
        "  print(f\"{pi_B} > {Tkp}\\nнулевая гипотеза о равенстве генерального коэффициента ранговой корреляции Спирмена нулю не принимается.\")\n",
        "  print(\"Между качественными признаками существует значимая ранговая корреляционная связь\")"
      ],
      "metadata": {
        "colab": {
          "base_uri": "https://localhost:8080/"
        },
        "id": "8AEoucS3s2Sn",
        "outputId": "55688683-56ff-46b0-efe3-cc0dacebf5f1"
      },
      "execution_count": null,
      "outputs": [
        {
          "output_type": "stream",
          "name": "stdout",
          "text": [
            "0.57273 > -0.39941\n",
            "нулевая гипотеза о равенстве генерального коэффициента ранговой корреляции Спирмена нулю не принимается.\n",
            "Между качественными признаками существует значимая ранговая корреляционная связь\n"
          ]
        }
      ]
    },
    {
      "cell_type": "markdown",
      "source": [
        "Расчет коэффициента ранговой корреляции Кендалла. Проверка значимости."
      ],
      "metadata": {
        "id": "NqrE_Z5muSee"
      }
    },
    {
      "cell_type": "code",
      "source": [
        "rank=pd.DataFrame([(5,4),(1,6),(11,2),(4,8),(9,5),(6,10),(3,9),(7,3),(2,11),(10,7),(8,1)],\n",
        "                  columns=[\"xi\",\"yi\"] )\n",
        "rank.style.hide_index()"
      ],
      "metadata": {
        "colab": {
          "base_uri": "https://localhost:8080/",
          "height": 394
        },
        "id": "FjYHX3LovNhM",
        "outputId": "34c70941-45ab-4f26-c23f-4dfea1259790"
      },
      "execution_count": null,
      "outputs": [
        {
          "output_type": "execute_result",
          "data": {
            "text/html": [
              "<style  type=\"text/css\" >\n",
              "</style><table id=\"T_e8e44dec_6054_11ec_b0a8_0242ac1c0002\" class=\"dataframe\"><thead>    <tr>        <th class=\"col_heading level0 col0\" >xi</th>        <th class=\"col_heading level0 col1\" >yi</th>    </tr></thead><tbody>\n",
              "                <tr>\n",
              "                                <td id=\"T_e8e44dec_6054_11ec_b0a8_0242ac1c0002row0_col0\" class=\"data row0 col0\" >5</td>\n",
              "                        <td id=\"T_e8e44dec_6054_11ec_b0a8_0242ac1c0002row0_col1\" class=\"data row0 col1\" >4</td>\n",
              "            </tr>\n",
              "            <tr>\n",
              "                                <td id=\"T_e8e44dec_6054_11ec_b0a8_0242ac1c0002row1_col0\" class=\"data row1 col0\" >1</td>\n",
              "                        <td id=\"T_e8e44dec_6054_11ec_b0a8_0242ac1c0002row1_col1\" class=\"data row1 col1\" >6</td>\n",
              "            </tr>\n",
              "            <tr>\n",
              "                                <td id=\"T_e8e44dec_6054_11ec_b0a8_0242ac1c0002row2_col0\" class=\"data row2 col0\" >11</td>\n",
              "                        <td id=\"T_e8e44dec_6054_11ec_b0a8_0242ac1c0002row2_col1\" class=\"data row2 col1\" >2</td>\n",
              "            </tr>\n",
              "            <tr>\n",
              "                                <td id=\"T_e8e44dec_6054_11ec_b0a8_0242ac1c0002row3_col0\" class=\"data row3 col0\" >4</td>\n",
              "                        <td id=\"T_e8e44dec_6054_11ec_b0a8_0242ac1c0002row3_col1\" class=\"data row3 col1\" >8</td>\n",
              "            </tr>\n",
              "            <tr>\n",
              "                                <td id=\"T_e8e44dec_6054_11ec_b0a8_0242ac1c0002row4_col0\" class=\"data row4 col0\" >9</td>\n",
              "                        <td id=\"T_e8e44dec_6054_11ec_b0a8_0242ac1c0002row4_col1\" class=\"data row4 col1\" >5</td>\n",
              "            </tr>\n",
              "            <tr>\n",
              "                                <td id=\"T_e8e44dec_6054_11ec_b0a8_0242ac1c0002row5_col0\" class=\"data row5 col0\" >6</td>\n",
              "                        <td id=\"T_e8e44dec_6054_11ec_b0a8_0242ac1c0002row5_col1\" class=\"data row5 col1\" >10</td>\n",
              "            </tr>\n",
              "            <tr>\n",
              "                                <td id=\"T_e8e44dec_6054_11ec_b0a8_0242ac1c0002row6_col0\" class=\"data row6 col0\" >3</td>\n",
              "                        <td id=\"T_e8e44dec_6054_11ec_b0a8_0242ac1c0002row6_col1\" class=\"data row6 col1\" >9</td>\n",
              "            </tr>\n",
              "            <tr>\n",
              "                                <td id=\"T_e8e44dec_6054_11ec_b0a8_0242ac1c0002row7_col0\" class=\"data row7 col0\" >7</td>\n",
              "                        <td id=\"T_e8e44dec_6054_11ec_b0a8_0242ac1c0002row7_col1\" class=\"data row7 col1\" >3</td>\n",
              "            </tr>\n",
              "            <tr>\n",
              "                                <td id=\"T_e8e44dec_6054_11ec_b0a8_0242ac1c0002row8_col0\" class=\"data row8 col0\" >2</td>\n",
              "                        <td id=\"T_e8e44dec_6054_11ec_b0a8_0242ac1c0002row8_col1\" class=\"data row8 col1\" >11</td>\n",
              "            </tr>\n",
              "            <tr>\n",
              "                                <td id=\"T_e8e44dec_6054_11ec_b0a8_0242ac1c0002row9_col0\" class=\"data row9 col0\" >10</td>\n",
              "                        <td id=\"T_e8e44dec_6054_11ec_b0a8_0242ac1c0002row9_col1\" class=\"data row9 col1\" >7</td>\n",
              "            </tr>\n",
              "            <tr>\n",
              "                                <td id=\"T_e8e44dec_6054_11ec_b0a8_0242ac1c0002row10_col0\" class=\"data row10 col0\" >8</td>\n",
              "                        <td id=\"T_e8e44dec_6054_11ec_b0a8_0242ac1c0002row10_col1\" class=\"data row10 col1\" >1</td>\n",
              "            </tr>\n",
              "    </tbody></table>"
            ],
            "text/plain": [
              "<pandas.io.formats.style.Styler at 0x7fb8c1d73350>"
            ]
          },
          "metadata": {},
          "execution_count": 79
        }
      ]
    },
    {
      "cell_type": "code",
      "source": [
        "R=[7,5,7,3,4,1,1,2]\n",
        "R=sum(R)\n",
        "R"
      ],
      "metadata": {
        "colab": {
          "base_uri": "https://localhost:8080/"
        },
        "id": "UA5ihLMD0TeR",
        "outputId": "055630a6-22b6-41e5-b163-74abc52487e8"
      },
      "execution_count": null,
      "outputs": [
        {
          "output_type": "execute_result",
          "data": {
            "text/plain": [
              "30"
            ]
          },
          "metadata": {},
          "execution_count": 88
        }
      ]
    },
    {
      "cell_type": "code",
      "source": [
        "to=abs(((4*R)/(n*(n-1)))-1)\n",
        "print(\"to = %0.3f\"%to)"
      ],
      "metadata": {
        "colab": {
          "base_uri": "https://localhost:8080/"
        },
        "id": "hOl1kumN0-zX",
        "outputId": "63d9a52f-b54f-4ab3-e9fa-72ad5d654756"
      },
      "execution_count": null,
      "outputs": [
        {
          "output_type": "stream",
          "name": "stdout",
          "text": [
            "to = 0.091\n"
          ]
        }
      ]
    },
    {
      "cell_type": "markdown",
      "source": [
        "Значимость коэффициента ранговой корреляции Кендалла:"
      ],
      "metadata": {
        "id": "0-8R7tea1gdS"
      }
    },
    {
      "cell_type": "code",
      "source": [
        "Zkp=1.96\n",
        "Tkp_ken=Zkp*np.sqrt((2*(2*n+5))/(9*n*(n-1)))"
      ],
      "metadata": {
        "id": "nfRhOHnh1dU5"
      },
      "execution_count": null,
      "outputs": []
    },
    {
      "cell_type": "code",
      "source": [
        "if to < Tkp_ken :\n",
        "  print(f\"{round(to,4)} < {round(Tkp_ken,4)} нет оснований отвергнуть нулевую гипотезу. Ранговая корреляционная связь между качественными признаками не значимаа\")\n",
        "else:\n",
        "  print(f\"{round(to,4)} > {round(Tkp_ken,4)}\\нулевую гипотезу отвергают. Между качественными признаками существует значимая ранговая корреляционная связь.\")\n"
      ],
      "metadata": {
        "colab": {
          "base_uri": "https://localhost:8080/"
        },
        "id": "c_zowvrO55Zq",
        "outputId": "7fc9a602-d459-4857-fa95-679e866f795b"
      },
      "execution_count": null,
      "outputs": [
        {
          "output_type": "stream",
          "name": "stdout",
          "text": [
            "0.0909 < 0.4578 нет оснований отвергнуть нулевую гипотезу. Ранговая корреляционная связь между качественными признаками не значимаа\n"
          ]
        }
      ]
    }
  ]
}