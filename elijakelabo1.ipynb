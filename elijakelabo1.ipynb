{
  "nbformat": 4,
  "nbformat_minor": 0,
  "metadata": {
    "colab": {
      "name": "elijakelabo1",
      "provenance": [],
      "collapsed_sections": [],
      "authorship_tag": "ABX9TyNYBcibx8JrUWGRcM8CBY4c",
      "include_colab_link": true
    },
    "kernelspec": {
      "name": "python3",
      "display_name": "Python 3"
    },
    "language_info": {
      "name": "python"
    }
  },
  "cells": [
    {
      "cell_type": "markdown",
      "metadata": {
        "id": "view-in-github",
        "colab_type": "text"
      },
      "source": [
        "<a href=\"https://colab.research.google.com/github/gohibi/eli/blob/eli/elijakelabo1.ipynb\" target=\"_parent\"><img src=\"https://colab.research.google.com/assets/colab-badge.svg\" alt=\"Open In Colab\"/></a>"
      ]
    },
    {
      "cell_type": "code",
      "metadata": {
        "id": "topqnYU1qlWM"
      },
      "source": [
        "import numpy as np\n",
        "import pandas as pd\n",
        "from matplotlib import pyplot as plt\n",
        "from scipy import stats\n",
        "from scipy.stats import chi2\n",
        "import math"
      ],
      "execution_count": 1,
      "outputs": []
    },
    {
      "cell_type": "markdown",
      "metadata": {
        "id": "oRG4q6ZLsB0l"
      },
      "source": [
        "les donnees initiales \n"
      ]
    },
    {
      "cell_type": "code",
      "metadata": {
        "id": "1iq7ii33r_1U"
      },
      "source": [
        "X =pd.Series([75, 88, 74, 80, 76, 82, 86, 76, 93, 74, 72, 82, 71,\n",
        "82, 87, 81, 87, 79, 78, 87, 82, 87, 82, 74, 77, 83,\n",
        "86, 85, 86, 76, 81, 86, 76, 71, 80, 85, 73, 75, 88,\n",
        "89, 84, 85, 85, 81, 82, 85, 83, 76, 87, 87, 76, 76,\n",
        "73, 78, 87, 80, 78, 72, 83, 91, 82, 93, 76, 83, 80,]) "
      ],
      "execution_count": 2,
      "outputs": []
    },
    {
      "cell_type": "markdown",
      "metadata": {
        "id": "7manO-Y0sKwz"
      },
      "source": [
        "premier quantile"
      ]
    },
    {
      "cell_type": "code",
      "metadata": {
        "colab": {
          "base_uri": "https://localhost:8080/"
        },
        "id": "pTbqjeppsGuh",
        "outputId": "6c4f04e1-b2d6-456a-eb68-518127093607"
      },
      "source": [
        "Q1=np.quantile(X,0.25)\n",
        "print(f'Q1={Q1}')"
      ],
      "execution_count": 3,
      "outputs": [
        {
          "output_type": "stream",
          "name": "stdout",
          "text": [
            "Q1=76.0\n"
          ]
        }
      ]
    },
    {
      "cell_type": "markdown",
      "metadata": {
        "id": "sOYME1qbscJ6"
      },
      "source": [
        "troisieme quantile"
      ]
    },
    {
      "cell_type": "code",
      "metadata": {
        "colab": {
          "base_uri": "https://localhost:8080/"
        },
        "id": "s5cIkRNssa9q",
        "outputId": "a56f848b-0fb2-413a-8ac9-2f0c68b79456"
      },
      "source": [
        "Q3=np.quantile(X,0.75)\n",
        "print(f'Q3={Q3}')\n"
      ],
      "execution_count": 4,
      "outputs": [
        {
          "output_type": "stream",
          "name": "stdout",
          "text": [
            "Q3=86.0\n"
          ]
        }
      ]
    },
    {
      "cell_type": "markdown",
      "metadata": {
        "id": "mstPNjwEsm8Z"
      },
      "source": [
        "intervalle interquantile"
      ]
    },
    {
      "cell_type": "code",
      "metadata": {
        "colab": {
          "base_uri": "https://localhost:8080/"
        },
        "id": "KjoF7C62sj4c",
        "outputId": "71157c54-41c2-4d77-9491-05a689610388"
      },
      "source": [
        "IQR=Q3 - Q1\n",
        "print(f'IQR={IQR}')"
      ],
      "execution_count": 5,
      "outputs": [
        {
          "output_type": "stream",
          "name": "stdout",
          "text": [
            "IQR=10.0\n"
          ]
        }
      ]
    },
    {
      "cell_type": "markdown",
      "metadata": {
        "id": "xtZqFGsBtDiO"
      },
      "source": [
        "remove outliers"
      ]
    },
    {
      "cell_type": "code",
      "metadata": {
        "id": "eHc7Wdxys3r7"
      },
      "source": [
        "X= X[~((X < (Q1 - 1.5 * IQR)) |(X > (Q3 + 1.5 * IQR)))] #remove outlier from quartile"
      ],
      "execution_count": 6,
      "outputs": []
    },
    {
      "cell_type": "code",
      "metadata": {
        "id": "QWoKWAYQtMGj"
      },
      "source": [
        "n=len(X)\n",
        "Xmax = np.max(X)\n",
        "Xmin=np.min(X)\n",
        "R =Xmax - Xmin #Размах\n",
        "k= (np.sqrt(n)).round(2) #Часто\n",
        "h=(R/k).round(2)  #длина formule de h=R/k. la fonction ROUND est une fonction pour arrondi les entiers \n",
        "x0 =(Xmin - 0.5*h).round(2) #x0=Xmin-0.5*h\n",
        "xk = (Xmax + 0.5*h).round(2)#xk=Xmax+0.5*h"
      ],
      "execution_count": 22,
      "outputs": []
    },
    {
      "cell_type": "code",
      "metadata": {
        "colab": {
          "base_uri": "https://localhost:8080/"
        },
        "id": "JuhSiBUttezw",
        "outputId": "5d5a4d00-3221-4aba-ff01-c7d0ee8eabc7"
      },
      "source": [
        "print(f'n={n}\\n Xmax={Xmax}\\n Xmin={Xmin}\\n R={R}\\n k={k}\\n h={h}\\n x0={x0}\\n xk={xk}\\n')"
      ],
      "execution_count": 23,
      "outputs": [
        {
          "output_type": "stream",
          "name": "stdout",
          "text": [
            "n=65\n",
            " Xmax=93\n",
            " Xmin=71\n",
            " R=22\n",
            " k=8.06\n",
            " h=2.73\n",
            " x0=69.64\n",
            " xk=94.36\n",
            "\n"
          ]
        }
      ]
    },
    {
      "cell_type": "code",
      "metadata": {
        "colab": {
          "base_uri": "https://localhost:8080/",
          "height": 360
        },
        "id": "YWMRAYgDvajJ",
        "outputId": "c307503d-8a5c-4050-dc28-f240deb6b2b6"
      },
      "source": [
        "bin_range = np.arange(x0 , xk+h , h)\n",
        "out, bins  = pd.cut(X, bins=bin_range, include_lowest=True, right=False, retbins=True)\n",
        "out.value_counts(sort=False).plot.bar(color='#07d1f5', title='histogram')"
      ],
      "execution_count": 24,
      "outputs": [
        {
          "output_type": "execute_result",
          "data": {
            "text/plain": [
              "<matplotlib.axes._subplots.AxesSubplot at 0x7f4ad4a61310>"
            ]
          },
          "metadata": {},
          "execution_count": 24
        },
        {
          "output_type": "display_data",
          "data": {
            "image/png": "[encoded data removed]",
            "text/plain": [
              "<Figure size 432x288 with 1 Axes>"
            ]
          },
          "metadata": {
            "needs_background": "light"
          }
        }
      ]
    },
    {
      "cell_type": "code",
      "metadata": {
        "colab": {
          "base_uri": "https://localhost:8080/",
          "height": 208
        },
        "id": "UXBPnRr0wYML",
        "outputId": "e243ec3f-05ae-499e-bc6c-3a2a555d845a"
      },
      "source": [
        "display(out.value_counts(sort=False, ascending=False))"
      ],
      "execution_count": 25,
      "outputs": [
        {
          "output_type": "display_data",
          "data": {
            "text/plain": [
              "[69.64, 72.37)     4\n",
              "[72.37, 75.1)      7\n",
              "[75.1, 77.83)      9\n",
              "[77.83, 80.56)     8\n",
              "[80.56, 83.29)    14\n",
              "[83.29, 86.02)    10\n",
              "[86.02, 88.75)     9\n",
              "[88.75, 91.48)     2\n",
              "[91.48, 94.21)     2\n",
              "[94.21, 96.94)     0\n",
              "dtype: int64"
            ]
          },
          "metadata": {}
        }
      ]
    },
    {
      "cell_type": "code",
      "metadata": {
        "colab": {
          "base_uri": "https://localhost:8080/",
          "height": 363
        },
        "id": "F9mcKy52ys73",
        "outputId": "b05af97f-cca9-4deb-ff50-95718dee5559"
      },
      "source": [
        "data={'xi':[71,73.73,76.46,79.19,81.92,84.65,87.38,90.11,92.84,95.57],\n",
        "      'ni':[4,7,9,8,14,10,9,2,2,0]} # xi cest la moyenne de lintervalle et ni c leffectif de lintervale \n",
        "df =pd.DataFrame(data) #Дискретный вариационный ряд\n",
        "display(df)"
      ],
      "execution_count": 28,
      "outputs": [
        {
          "output_type": "display_data",
          "data": {
            "text/html": [
              "<div>\n",
              "<style scoped>\n",
              "    .dataframe tbody tr th:only-of-type {\n",
              "        vertical-align: middle;\n",
              "    }\n",
              "\n",
              "    .dataframe tbody tr th {\n",
              "        vertical-align: top;\n",
              "    }\n",
              "\n",
              "    .dataframe thead th {\n",
              "        text-align: right;\n",
              "    }\n",
              "</style>\n",
              "<table border=\"1\" class=\"dataframe\">\n",
              "  <thead>\n",
              "    <tr style=\"text-align: right;\">\n",
              "      <th></th>\n",
              "      <th>xi</th>\n",
              "      <th>ni</th>\n",
              "    </tr>\n",
              "  </thead>\n",
              "  <tbody>\n",
              "    <tr>\n",
              "      <th>0</th>\n",
              "      <td>71.00</td>\n",
              "      <td>4</td>\n",
              "    </tr>\n",
              "    <tr>\n",
              "      <th>1</th>\n",
              "      <td>73.73</td>\n",
              "      <td>7</td>\n",
              "    </tr>\n",
              "    <tr>\n",
              "      <th>2</th>\n",
              "      <td>76.46</td>\n",
              "      <td>9</td>\n",
              "    </tr>\n",
              "    <tr>\n",
              "      <th>3</th>\n",
              "      <td>79.19</td>\n",
              "      <td>8</td>\n",
              "    </tr>\n",
              "    <tr>\n",
              "      <th>4</th>\n",
              "      <td>81.92</td>\n",
              "      <td>14</td>\n",
              "    </tr>\n",
              "    <tr>\n",
              "      <th>5</th>\n",
              "      <td>84.65</td>\n",
              "      <td>10</td>\n",
              "    </tr>\n",
              "    <tr>\n",
              "      <th>6</th>\n",
              "      <td>87.38</td>\n",
              "      <td>9</td>\n",
              "    </tr>\n",
              "    <tr>\n",
              "      <th>7</th>\n",
              "      <td>90.11</td>\n",
              "      <td>2</td>\n",
              "    </tr>\n",
              "    <tr>\n",
              "      <th>8</th>\n",
              "      <td>92.84</td>\n",
              "      <td>2</td>\n",
              "    </tr>\n",
              "    <tr>\n",
              "      <th>9</th>\n",
              "      <td>95.57</td>\n",
              "      <td>0</td>\n",
              "    </tr>\n",
              "  </tbody>\n",
              "</table>\n",
              "</div>"
            ],
            "text/plain": [
              "      xi  ni\n",
              "0  71.00   4\n",
              "1  73.73   7\n",
              "2  76.46   9\n",
              "3  79.19   8\n",
              "4  81.92  14\n",
              "5  84.65  10\n",
              "6  87.38   9\n",
              "7  90.11   2\n",
              "8  92.84   2\n",
              "9  95.57   0"
            ]
          },
          "metadata": {}
        }
      ]
    },
    {
      "cell_type": "code",
      "metadata": {
        "colab": {
          "base_uri": "https://localhost:8080/",
          "height": 298
        },
        "id": "g_5tU1wq0MiL",
        "outputId": "f7479412-39d7-433d-82ad-8be4c5583f31"
      },
      "source": [
        "_,axe = plt.subplots()\n",
        "axe.plot(df['xi'], df['ni'], color='#470012', alpha=0.7,\n",
        "    linewidth=3, solid_capstyle='round', zorder=2)\n",
        "axe.set_title('Polygon')"
      ],
      "execution_count": 30,
      "outputs": [
        {
          "output_type": "execute_result",
          "data": {
            "text/plain": [
              "Text(0.5, 1.0, 'Polygon')"
            ]
          },
          "metadata": {},
          "execution_count": 30
        },
        {
          "output_type": "display_data",
          "data": {
            "image/png": "[encoded data removed]",
            "text/plain": [
              "<Figure size 432x288 with 1 Axes>"
            ]
          },
          "metadata": {
            "needs_background": "light"
          }
        }
      ]
    },
    {
      "cell_type": "code",
      "metadata": {
        "colab": {
          "base_uri": "https://localhost:8080/",
          "height": 363
        },
        "id": "XBlb3NcE0iQX",
        "outputId": "7b26dd05-4085-44e6-f390-3036db3f1091"
      },
      "source": [
        "data_d ={'xi':[71,73.73,76.46,79.19,81.92,84.65,87.38,90.11,92.84,95.57],\n",
        "      'ni':[4,7,9,8,14,10,9,2,2,0],\n",
        "       'fi':[0.06,0.11,0.14,0.12,0.22,0.15,0.14,0.03,0.03,0],\n",
        "       'cfi':[0.06,0.17,0.31,0.43,0.65,0.8,0.94,0.97,1,1]}\n",
        "df1 =pd.DataFrame(data_d)\n",
        "display(df1)"
      ],
      "execution_count": 32,
      "outputs": [
        {
          "output_type": "display_data",
          "data": {
            "text/html": [
              "<div>\n",
              "<style scoped>\n",
              "    .dataframe tbody tr th:only-of-type {\n",
              "        vertical-align: middle;\n",
              "    }\n",
              "\n",
              "    .dataframe tbody tr th {\n",
              "        vertical-align: top;\n",
              "    }\n",
              "\n",
              "    .dataframe thead th {\n",
              "        text-align: right;\n",
              "    }\n",
              "</style>\n",
              "<table border=\"1\" class=\"dataframe\">\n",
              "  <thead>\n",
              "    <tr style=\"text-align: right;\">\n",
              "      <th></th>\n",
              "      <th>xi</th>\n",
              "      <th>ni</th>\n",
              "      <th>fi</th>\n",
              "      <th>cfi</th>\n",
              "    </tr>\n",
              "  </thead>\n",
              "  <tbody>\n",
              "    <tr>\n",
              "      <th>0</th>\n",
              "      <td>71.00</td>\n",
              "      <td>4</td>\n",
              "      <td>0.06</td>\n",
              "      <td>0.06</td>\n",
              "    </tr>\n",
              "    <tr>\n",
              "      <th>1</th>\n",
              "      <td>73.73</td>\n",
              "      <td>7</td>\n",
              "      <td>0.11</td>\n",
              "      <td>0.17</td>\n",
              "    </tr>\n",
              "    <tr>\n",
              "      <th>2</th>\n",
              "      <td>76.46</td>\n",
              "      <td>9</td>\n",
              "      <td>0.14</td>\n",
              "      <td>0.31</td>\n",
              "    </tr>\n",
              "    <tr>\n",
              "      <th>3</th>\n",
              "      <td>79.19</td>\n",
              "      <td>8</td>\n",
              "      <td>0.12</td>\n",
              "      <td>0.43</td>\n",
              "    </tr>\n",
              "    <tr>\n",
              "      <th>4</th>\n",
              "      <td>81.92</td>\n",
              "      <td>14</td>\n",
              "      <td>0.22</td>\n",
              "      <td>0.65</td>\n",
              "    </tr>\n",
              "    <tr>\n",
              "      <th>5</th>\n",
              "      <td>84.65</td>\n",
              "      <td>10</td>\n",
              "      <td>0.15</td>\n",
              "      <td>0.80</td>\n",
              "    </tr>\n",
              "    <tr>\n",
              "      <th>6</th>\n",
              "      <td>87.38</td>\n",
              "      <td>9</td>\n",
              "      <td>0.14</td>\n",
              "      <td>0.94</td>\n",
              "    </tr>\n",
              "    <tr>\n",
              "      <th>7</th>\n",
              "      <td>90.11</td>\n",
              "      <td>2</td>\n",
              "      <td>0.03</td>\n",
              "      <td>0.97</td>\n",
              "    </tr>\n",
              "    <tr>\n",
              "      <th>8</th>\n",
              "      <td>92.84</td>\n",
              "      <td>2</td>\n",
              "      <td>0.03</td>\n",
              "      <td>1.00</td>\n",
              "    </tr>\n",
              "    <tr>\n",
              "      <th>9</th>\n",
              "      <td>95.57</td>\n",
              "      <td>0</td>\n",
              "      <td>0.00</td>\n",
              "      <td>1.00</td>\n",
              "    </tr>\n",
              "  </tbody>\n",
              "</table>\n",
              "</div>"
            ],
            "text/plain": [
              "      xi  ni    fi   cfi\n",
              "0  71.00   4  0.06  0.06\n",
              "1  73.73   7  0.11  0.17\n",
              "2  76.46   9  0.14  0.31\n",
              "3  79.19   8  0.12  0.43\n",
              "4  81.92  14  0.22  0.65\n",
              "5  84.65  10  0.15  0.80\n",
              "6  87.38   9  0.14  0.94\n",
              "7  90.11   2  0.03  0.97\n",
              "8  92.84   2  0.03  1.00\n",
              "9  95.57   0  0.00  1.00"
            ]
          },
          "metadata": {}
        }
      ]
    },
    {
      "cell_type": "code",
      "metadata": {
        "colab": {
          "base_uri": "https://localhost:8080/",
          "height": 298
        },
        "id": "Phorwnmw2tvO",
        "outputId": "b8909f98-98ae-4fb1-ef58-2880b6785774"
      },
      "source": [
        "_,axe = plt.subplots()\n",
        "axe.plot(df1['xi'], df1['cfi'], color='#212121', alpha=0.7,\n",
        "    linewidth=3, solid_capstyle='round', zorder=2)\n",
        "axe.set_title('cumulate')"
      ],
      "execution_count": 34,
      "outputs": [
        {
          "output_type": "execute_result",
          "data": {
            "text/plain": [
              "Text(0.5, 1.0, 'cumulate')"
            ]
          },
          "metadata": {},
          "execution_count": 34
        },
        {
          "output_type": "display_data",
          "data": {
            "image/png": "[encoded data removed]",
            "text/plain": [
              "<Figure size 432x288 with 1 Axes>"
            ]
          },
          "metadata": {
            "needs_background": "light"
          }
        }
      ]
    },
    {
      "cell_type": "code",
      "metadata": {
        "id": "fGN452kc3H0l"
      },
      "source": [
        "Xmode=X.mode(dropna=True)    #моду\n",
        "md_X=X.median(skipna=True)   #медиану\n",
        "mean_X=X.mean()              #выборочную среднюю\n",
        "var_X=X.var()                #выборочную дисперсию\n",
        "std_X=X.std()                #выборочное среднее квадратическое отклонение\n",
        "cv_X=std_X/mean_X*100        #коэффициент вариации\n",
        "skew_X=X.skew(skipna=True)   #асимметрию\n",
        "kurt_X=X.kurt()              #эксцесс"
      ],
      "execution_count": 35,
      "outputs": []
    },
    {
      "cell_type": "code",
      "metadata": {
        "colab": {
          "base_uri": "https://localhost:8080/"
        },
        "id": "lJU-Rlxr2t7V",
        "outputId": "b2109482-6cb4-4ca3-ca60-88603b55e878"
      },
      "source": [
        "print(f'Mode={Xmode}\\n ') #mode est egale a 76\n",
        "print(f'Median={md_X}\\n ')\n",
        "print(f'Moyenne={mean_X}\\n')\n",
        "print(f'Variance={var_X}\\n')\n",
        "print(f'Std ={std_X} \\n') \n",
        "print(f'Coeffiecient Variation = {cv_X}\\n ') #cherche aussi sa signification \n",
        "print(f'Asymetrie = {skew_X}\\n ') #cherche a savoir si c asymetrie a droite ou a gauche \n",
        "print(f'Express = {kurt_X}') # de meme pour celui la"
      ],
      "execution_count": 45,
      "outputs": [
        {
          "output_type": "stream",
          "name": "stdout",
          "text": [
            "Mode=0    76\n",
            "dtype: int64\n",
            " \n",
            "Median=82.0\n",
            " \n",
            "Moyenne=81.15384615384616\n",
            "\n",
            "Variance=30.819711538461554\n",
            "\n",
            "Std =5.551550372505104 \n",
            "\n",
            "Coeffiecient Variation = 6.84077297085937\n",
            " \n",
            "Asymetrie = 0.0039004352711844614\n",
            " \n",
            "Express = -0.8026946873478229\n"
          ]
        }
      ]
    },
    {
      "cell_type": "markdown",
      "metadata": {
        "id": "jgiMGI0t6hsD"
      },
      "source": [
        "Построить доверительные интервалы для истинного значения измеряемой величины и среднего квадратического отклонения генеральной совокупности"
      ]
    },
    {
      "cell_type": "markdown",
      "metadata": {
        "id": "_Yj7PVJ46k_A"
      },
      "source": [
        "Для математического ожидания"
      ]
    },
    {
      "cell_type": "code",
      "metadata": {
        "colab": {
          "base_uri": "https://localhost:8080/"
        },
        "id": "dCKq-kk86hLj",
        "outputId": "8460fc2d-f1a7-44f2-8939-313284bb117f"
      },
      "source": [
        "s=X.std() #ecart type\n",
        "xba=X.mean() #moyenne\n",
        "gamma=0.95\n",
        "t=1.997137908   #=TINV(0,05; 65) по экселе  // 65 est effectif de ta serie\n",
        "left_m=round(xba-t*(s/math.sqrt(n)),4)\n",
        "right_m=round(xba+t*(s/math.sqrt(n)),4)\n",
        "print('Confidence interval of mathematical expectation ', left_m ,'< m <', right_m)"
      ],
      "execution_count": 47,
      "outputs": [
        {
          "output_type": "stream",
          "name": "stdout",
          "text": [
            "Confidence interval of mathematical expectation  79.7786 < m < 82.529\n"
          ]
        }
      ]
    },
    {
      "cell_type": "markdown",
      "metadata": {
        "id": "UAOR28_c8O9h"
      },
      "source": [
        "для среднего квадратического отклонения"
      ]
    },
    {
      "cell_type": "code",
      "metadata": {
        "colab": {
          "base_uri": "https://localhost:8080/"
        },
        "id": "q4PdIFgn8N25",
        "outputId": "71e89b20-6de1-46b9-b0e1-abc7c05e6581"
      },
      "source": [
        "ki1_right=43.77595   # CHIINV(1,95/2;64) по эксель formule du khideux si tu veux comprendre \n",
        "ki2_left=54.04233   # CHIINV(0,05/2;64) по эксель\n",
        "sigm_left=(((n-1)*(s*s))/ki2_left)\n",
        "sigm_right=(((n-1)*(s*s))/ki1_right)\n",
        "print('Confidence interval of standard deviation',round(sigm_left,3) ,'< s^2 <', round(sigm_right,3))\n",
        "\n",
        "\n"
      ],
      "execution_count": 51,
      "outputs": [
        {
          "output_type": "stream",
          "name": "stdout",
          "text": [
            "Confidence interval of standard deviation 36.498 < s^2 < 45.058\n"
          ]
        }
      ]
    },
    {
      "cell_type": "code",
      "metadata": {
        "id": "njPauZ2K_gfx"
      },
      "source": [
        "#VOIR LE POWERPOINT DU PREMIER LEKSIA TU VAS COMPRENDRE BEAUCOUP DU LAB"
      ],
      "execution_count": 53,
      "outputs": []
    },
    {
      "cell_type": "code",
      "metadata": {
        "id": "7mQPQH1y_n-X"
      },
      "source": [
        ""
      ],
      "execution_count": null,
      "outputs": []
    }
  ]
}