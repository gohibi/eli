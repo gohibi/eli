{
  "nbformat": 4,
  "nbformat_minor": 0,
  "metadata": {
    "colab": {
      "name": "elijakelabo1",
      "provenance": [],
      "collapsed_sections": [],
      "authorship_tag": "ABX9TyPN5bhTiU9M+JNLdIGu+PZt",
      "include_colab_link": true
    },
    "kernelspec": {
      "name": "python3",
      "display_name": "Python 3"
    },
    "language_info": {
      "name": "python"
    }
  },
  "cells": [
    {
      "cell_type": "markdown",
      "metadata": {
        "id": "view-in-github",
        "colab_type": "text"
      },
      "source": [
        "<a href=\"https://colab.research.google.com/github/gohibi/eli/blob/eli/elijakelabo1.ipynb\" target=\"_parent\"><img src=\"https://colab.research.google.com/assets/colab-badge.svg\" alt=\"Open In Colab\"/></a>"
      ]
    },
    {
      "cell_type": "code",
      "metadata": {
        "id": "topqnYU1qlWM"
      },
      "source": [
        "import numpy as np\n",
        "import pandas as pd\n",
        "from matplotlib import pyplot as plt\n",
        "from scipy import stats\n",
        "from scipy.stats import chi2\n",
        "import math"
      ],
      "execution_count": 1,
      "outputs": []
    },
    {
      "cell_type": "markdown",
      "metadata": {
        "id": "oRG4q6ZLsB0l"
      },
      "source": [
        "les donnees initiales \n"
      ]
    },
    {
      "cell_type": "code",
      "metadata": {
        "id": "1iq7ii33r_1U"
      },
      "source": [
        "X =pd.Series([75, 88, 74, 80, 76, 82, 86, 76, 93, 74, 72, 82, 71,\n",
        "82, 87, 81, 87, 79, 78, 87, 82, 87, 82, 74, 77, 83,\n",
        "86, 85, 86, 76, 81, 86, 76, 71, 80, 85, 73, 75, 88,\n",
        "89, 84, 85, 85, 81, 82, 85, 83, 76, 87, 87, 76, 76,\n",
        "73, 78, 87, 80, 78, 72, 83, 91, 82, 93, 76, 83, 80,]) "
      ],
      "execution_count": 2,
      "outputs": []
    },
    {
      "cell_type": "markdown",
      "metadata": {
        "id": "7manO-Y0sKwz"
      },
      "source": [
        "premier quantile"
      ]
    },
    {
      "cell_type": "code",
      "metadata": {
        "colab": {
          "base_uri": "https://localhost:8080/"
        },
        "id": "pTbqjeppsGuh",
        "outputId": "6c4f04e1-b2d6-456a-eb68-518127093607"
      },
      "source": [
        "Q1=np.quantile(X,0.25)\n",
        "print(f'Q1={Q1}')"
      ],
      "execution_count": 3,
      "outputs": [
        {
          "output_type": "stream",
          "name": "stdout",
          "text": [
            "Q1=76.0\n"
          ]
        }
      ]
    },
    {
      "cell_type": "markdown",
      "metadata": {
        "id": "sOYME1qbscJ6"
      },
      "source": [
        "troisieme quantile"
      ]
    },
    {
      "cell_type": "code",
      "metadata": {
        "colab": {
          "base_uri": "https://localhost:8080/"
        },
        "id": "s5cIkRNssa9q",
        "outputId": "a56f848b-0fb2-413a-8ac9-2f0c68b79456"
      },
      "source": [
        "Q3=np.quantile(X,0.75)\n",
        "print(f'Q3={Q3}')\n"
      ],
      "execution_count": 4,
      "outputs": [
        {
          "output_type": "stream",
          "name": "stdout",
          "text": [
            "Q3=86.0\n"
          ]
        }
      ]
    },
    {
      "cell_type": "markdown",
      "metadata": {
        "id": "mstPNjwEsm8Z"
      },
      "source": [
        "intervalle interquantile"
      ]
    },
    {
      "cell_type": "code",
      "metadata": {
        "colab": {
          "base_uri": "https://localhost:8080/"
        },
        "id": "KjoF7C62sj4c",
        "outputId": "71157c54-41c2-4d77-9491-05a689610388"
      },
      "source": [
        "IQR=Q3 - Q1\n",
        "print(f'IQR={IQR}')"
      ],
      "execution_count": 5,
      "outputs": [
        {
          "output_type": "stream",
          "name": "stdout",
          "text": [
            "IQR=10.0\n"
          ]
        }
      ]
    }
  ]
}