{
  "nbformat": 4,
  "nbformat_minor": 0,
  "metadata": {
    "colab": {
      "name": "elijakelabo1",
      "provenance": [],
      "collapsed_sections": [],
      "authorship_tag": "ABX9TyPQiokqboVVuFetH4V/+7WU",
      "include_colab_link": true
    },
    "kernelspec": {
      "name": "python3",
      "display_name": "Python 3"
    },
    "language_info": {
      "name": "python"
    }
  },
  "cells": [
    {
      "cell_type": "markdown",
      "metadata": {
        "id": "view-in-github",
        "colab_type": "text"
      },
      "source": [
        "<a href=\"https://colab.research.google.com/github/gohibi/eli/blob/eli/elijakelab2.ipynb\" target=\"_parent\"><img src=\"https://colab.research.google.com/assets/colab-badge.svg\" alt=\"Open In Colab\"/></a>"
      ]
    },
    {
      "cell_type": "code",
      "metadata": {
        "id": "topqnYU1qlWM"
      },
      "source": [
        "import numpy as np\n",
        "import pandas as pd\n",
        "from matplotlib import pyplot as plt\n",
        "from scipy import stats\n",
        "from scipy.stats import chi2\n",
        "import math"
      ],
      "execution_count": 2,
      "outputs": []
    },
    {
      "cell_type": "markdown",
      "metadata": {
        "id": "oRG4q6ZLsB0l"
      },
      "source": [
        "les donnees initiales \n"
      ]
    },
    {
      "cell_type": "code",
      "metadata": {
        "id": "1iq7ii33r_1U"
      },
      "source": [
        "X =pd.Series([75, 88, 74, 80, 76, 82, 86, 76, 93, 74, 72, 82, 71,\n",
        "82, 87, 81, 87, 79, 78, 87, 82, 87, 82, 74, 77, 83,\n",
        "86, 85, 86, 76, 81, 86, 76, 71, 80, 85, 73, 75, 88,\n",
        "89, 84, 85, 85, 81, 82, 85, 83, 76, 87, 87, 76, 76,\n",
        "73, 78, 87, 80, 78, 72, 83, 91, 82, 93, 76, 83, 80,]) "
      ],
      "execution_count": 12,
      "outputs": []
    },
    {
      "cell_type": "markdown",
      "metadata": {
        "id": "7manO-Y0sKwz"
      },
      "source": [
        "premier quantile"
      ]
    },
    {
      "cell_type": "code",
      "metadata": {
        "colab": {
          "base_uri": "https://localhost:8080/"
        },
        "id": "pTbqjeppsGuh",
        "outputId": "088048aa-44ea-4c76-d038-9dc9e903b3b5"
      },
      "source": [
        "Q1=np.quantile(X,0.25)\n",
        "print(f'Q1={Q1}')"
      ],
      "execution_count": 13,
      "outputs": [
        {
          "output_type": "stream",
          "name": "stdout",
          "text": [
            "Q1=76.0\n"
          ]
        }
      ]
    },
    {
      "cell_type": "markdown",
      "metadata": {
        "id": "sOYME1qbscJ6"
      },
      "source": [
        "troisieme quantile"
      ]
    },
    {
      "cell_type": "code",
      "metadata": {
        "colab": {
          "base_uri": "https://localhost:8080/"
        },
        "id": "s5cIkRNssa9q",
        "outputId": "4e3f353b-a914-4e28-fa6b-cc6ebe65d0cb"
      },
      "source": [
        "Q3=np.quantile(X,0.75)\n",
        "print(f'Q3={Q3}')\n"
      ],
      "execution_count": 14,
      "outputs": [
        {
          "output_type": "stream",
          "name": "stdout",
          "text": [
            "Q3=86.0\n"
          ]
        }
      ]
    },
    {
      "cell_type": "markdown",
      "metadata": {
        "id": "mstPNjwEsm8Z"
      },
      "source": [
        "intervalle interquantile"
      ]
    },
    {
      "cell_type": "code",
      "metadata": {
        "colab": {
          "base_uri": "https://localhost:8080/"
        },
        "id": "KjoF7C62sj4c",
        "outputId": "3417ea4f-5c6e-49fc-9ef4-c873dd65c3e9"
      },
      "source": [
        "IQR=Q3 - Q1\n",
        "print(f'IQR={IQR}')"
      ],
      "execution_count": 15,
      "outputs": [
        {
          "output_type": "stream",
          "name": "stdout",
          "text": [
            "IQR=10.0\n"
          ]
        }
      ]
    },
    {
      "cell_type": "markdown",
      "metadata": {
        "id": "xtZqFGsBtDiO"
      },
      "source": [
        "remove outliers"
      ]
    },
    {
      "cell_type": "code",
      "metadata": {
        "id": "eHc7Wdxys3r7"
      },
      "source": [
        "X= X[~((X < (Q1 - 1.5 * IQR)) |(X > (Q3 + 1.5 * IQR)))] #remove outlier from quartile"
      ],
      "execution_count": 16,
      "outputs": []
    },
    {
      "cell_type": "code",
      "metadata": {
        "id": "QWoKWAYQtMGj"
      },
      "source": [
        "n=len(X)\n",
        "Xmax = np.max(X)\n",
        "Xmin=np.min(X)\n",
        "R =Xmax - Xmin #Размах\n",
        "k= (np.sqrt(n)).round(2) #Часто\n",
        "h=(R/k).round(2)  #длина formule de h=R/k. la fonction ROUND est une fonction pour arrondi les entiers \n",
        "x0 =(Xmin - 0.5*h).round(2) #x0=Xmin-0.5*h\n",
        "xk = (Xmax + 0.5*h).round(2)#xk=Xmax+0.5*h"
      ],
      "execution_count": 17,
      "outputs": []
    },
    {
      "cell_type": "code",
      "metadata": {
        "colab": {
          "base_uri": "https://localhost:8080/"
        },
        "id": "JuhSiBUttezw",
        "outputId": "5d5a4d00-3221-4aba-ff01-c7d0ee8eabc7"
      },
      "source": [
        "print(f'n={n}\\n Xmax={Xmax}\\n Xmin={Xmin}\\n R={R}\\n k={k}\\n h={h}\\n x0={x0}\\n xk={xk}\\n')"
      ],
      "execution_count": null,
      "outputs": [
        {
          "output_type": "stream",
          "name": "stdout",
          "text": [
            "n=65\n",
            " Xmax=93\n",
            " Xmin=71\n",
            " R=22\n",
            " k=8.06\n",
            " h=2.73\n",
            " x0=69.64\n",
            " xk=94.36\n",
            "\n"
          ]
        }
      ]
    },
    {
      "cell_type": "code",
      "metadata": {
        "colab": {
          "base_uri": "https://localhost:8080/",
          "height": 360
        },
        "id": "YWMRAYgDvajJ",
        "outputId": "c307503d-8a5c-4050-dc28-f240deb6b2b6"
      },
      "source": [
        "bin_range = np.arange(x0 , xk+h , h)\n",
        "out, bins  = pd.cut(X, bins=bin_range, include_lowest=True, right=False, retbins=True)\n",
        "out.value_counts(sort=False).plot.bar(color='#07d1f5', title='histogram')"
      ],
      "execution_count": null,
      "outputs": [
        {
          "output_type": "execute_result",
          "data": {
            "text/plain": [
              "<matplotlib.axes._subplots.AxesSubplot at 0x7f4ad4a61310>"
            ]
          },
          "metadata": {},
          "execution_count": 24
        },
        {
          "output_type": "display_data",
          "data": {
            "image/png": "[encoded data removed]",
            "text/plain": [
              "<Figure size 432x288 with 1 Axes>"
            ]
          },
          "metadata": {
            "needs_background": "light"
          }
        }
      ]
    },
    {
      "cell_type": "code",
      "metadata": {
        "colab": {
          "base_uri": "https://localhost:8080/",
          "height": 208
        },
        "id": "UXBPnRr0wYML",
        "outputId": "e243ec3f-05ae-499e-bc6c-3a2a555d845a"
      },
      "source": [
        "display(out.value_counts(sort=False, ascending=False))"
      ],
      "execution_count": null,
      "outputs": [
        {
          "output_type": "display_data",
          "data": {
            "text/plain": [
              "[69.64, 72.37)     4\n",
              "[72.37, 75.1)      7\n",
              "[75.1, 77.83)      9\n",
              "[77.83, 80.56)     8\n",
              "[80.56, 83.29)    14\n",
              "[83.29, 86.02)    10\n",
              "[86.02, 88.75)     9\n",
              "[88.75, 91.48)     2\n",
              "[91.48, 94.21)     2\n",
              "[94.21, 96.94)     0\n",
              "dtype: int64"
            ]
          },
          "metadata": {}
        }
      ]
    },
    {
      "cell_type": "code",
      "metadata": {
        "colab": {
          "base_uri": "https://localhost:8080/",
          "height": 363
        },
        "id": "F9mcKy52ys73",
        "outputId": "b05af97f-cca9-4deb-ff50-95718dee5559"
      },
      "source": [
        "data={'xi':[71,73.73,76.46,79.19,81.92,84.65,87.38,90.11,92.84,95.57],\n",
        "      'ni':[4,7,9,8,14,10,9,2,2,0]} # xi cest la moyenne de lintervalle et ni c leffectif de lintervale \n",
        "df =pd.DataFrame(data) #Дискретный вариационный ряд\n",
        "display(df)"
      ],
      "execution_count": null,
      "outputs": [
        {
          "output_type": "display_data",
          "data": {
            "text/html": [
              "<div>\n",
              "<style scoped>\n",
              "    .dataframe tbody tr th:only-of-type {\n",
              "        vertical-align: middle;\n",
              "    }\n",
              "\n",
              "    .dataframe tbody tr th {\n",
              "        vertical-align: top;\n",
              "    }\n",
              "\n",
              "    .dataframe thead th {\n",
              "        text-align: right;\n",
              "    }\n",
              "</style>\n",
              "<table border=\"1\" class=\"dataframe\">\n",
              "  <thead>\n",
              "    <tr style=\"text-align: right;\">\n",
              "      <th></th>\n",
              "      <th>xi</th>\n",
              "      <th>ni</th>\n",
              "    </tr>\n",
              "  </thead>\n",
              "  <tbody>\n",
              "    <tr>\n",
              "      <th>0</th>\n",
              "      <td>71.00</td>\n",
              "      <td>4</td>\n",
              "    </tr>\n",
              "    <tr>\n",
              "      <th>1</th>\n",
              "      <td>73.73</td>\n",
              "      <td>7</td>\n",
              "    </tr>\n",
              "    <tr>\n",
              "      <th>2</th>\n",
              "      <td>76.46</td>\n",
              "      <td>9</td>\n",
              "    </tr>\n",
              "    <tr>\n",
              "      <th>3</th>\n",
              "      <td>79.19</td>\n",
              "      <td>8</td>\n",
              "    </tr>\n",
              "    <tr>\n",
              "      <th>4</th>\n",
              "      <td>81.92</td>\n",
              "      <td>14</td>\n",
              "    </tr>\n",
              "    <tr>\n",
              "      <th>5</th>\n",
              "      <td>84.65</td>\n",
              "      <td>10</td>\n",
              "    </tr>\n",
              "    <tr>\n",
              "      <th>6</th>\n",
              "      <td>87.38</td>\n",
              "      <td>9</td>\n",
              "    </tr>\n",
              "    <tr>\n",
              "      <th>7</th>\n",
              "      <td>90.11</td>\n",
              "      <td>2</td>\n",
              "    </tr>\n",
              "    <tr>\n",
              "      <th>8</th>\n",
              "      <td>92.84</td>\n",
              "      <td>2</td>\n",
              "    </tr>\n",
              "    <tr>\n",
              "      <th>9</th>\n",
              "      <td>95.57</td>\n",
              "      <td>0</td>\n",
              "    </tr>\n",
              "  </tbody>\n",
              "</table>\n",
              "</div>"
            ],
            "text/plain": [
              "      xi  ni\n",
              "0  71.00   4\n",
              "1  73.73   7\n",
              "2  76.46   9\n",
              "3  79.19   8\n",
              "4  81.92  14\n",
              "5  84.65  10\n",
              "6  87.38   9\n",
              "7  90.11   2\n",
              "8  92.84   2\n",
              "9  95.57   0"
            ]
          },
          "metadata": {}
        }
      ]
    },
    {
      "cell_type": "code",
      "metadata": {
        "colab": {
          "base_uri": "https://localhost:8080/",
          "height": 298
        },
        "id": "g_5tU1wq0MiL",
        "outputId": "f7479412-39d7-433d-82ad-8be4c5583f31"
      },
      "source": [
        "_,axe = plt.subplots()\n",
        "axe.plot(df['xi'], df['ni'], color='#470012', alpha=0.7,\n",
        "    linewidth=3, solid_capstyle='round', zorder=2)\n",
        "axe.set_title('Polygon')"
      ],
      "execution_count": null,
      "outputs": [
        {
          "output_type": "execute_result",
          "data": {
            "text/plain": [
              "Text(0.5, 1.0, 'Polygon')"
            ]
          },
          "metadata": {},
          "execution_count": 30
        },
        {
          "output_type": "display_data",
          "data": {
            "image/png": "[encoded data removed]",
            "text/plain": [
              "<Figure size 432x288 with 1 Axes>"
            ]
          },
          "metadata": {
            "needs_background": "light"
          }
        }
      ]
    },
    {
      "cell_type": "code",
      "metadata": {
        "colab": {
          "base_uri": "https://localhost:8080/",
          "height": 363
        },
        "id": "XBlb3NcE0iQX",
        "outputId": "7b26dd05-4085-44e6-f390-3036db3f1091"
      },
      "source": [
        "data_d ={'xi':[71,73.73,76.46,79.19,81.92,84.65,87.38,90.11,92.84,95.57],\n",
        "      'ni':[4,7,9,8,14,10,9,2,2,0],\n",
        "       'fi':[0.06,0.11,0.14,0.12,0.22,0.15,0.14,0.03,0.03,0],\n",
        "       'cfi':[0.06,0.17,0.31,0.43,0.65,0.8,0.94,0.97,1,1]}\n",
        "df1 =pd.DataFrame(data_d)\n",
        "display(df1)"
      ],
      "execution_count": null,
      "outputs": [
        {
          "output_type": "display_data",
          "data": {
            "text/html": [
              "<div>\n",
              "<style scoped>\n",
              "    .dataframe tbody tr th:only-of-type {\n",
              "        vertical-align: middle;\n",
              "    }\n",
              "\n",
              "    .dataframe tbody tr th {\n",
              "        vertical-align: top;\n",
              "    }\n",
              "\n",
              "    .dataframe thead th {\n",
              "        text-align: right;\n",
              "    }\n",
              "</style>\n",
              "<table border=\"1\" class=\"dataframe\">\n",
              "  <thead>\n",
              "    <tr style=\"text-align: right;\">\n",
              "      <th></th>\n",
              "      <th>xi</th>\n",
              "      <th>ni</th>\n",
              "      <th>fi</th>\n",
              "      <th>cfi</th>\n",
              "    </tr>\n",
              "  </thead>\n",
              "  <tbody>\n",
              "    <tr>\n",
              "      <th>0</th>\n",
              "      <td>71.00</td>\n",
              "      <td>4</td>\n",
              "      <td>0.06</td>\n",
              "      <td>0.06</td>\n",
              "    </tr>\n",
              "    <tr>\n",
              "      <th>1</th>\n",
              "      <td>73.73</td>\n",
              "      <td>7</td>\n",
              "      <td>0.11</td>\n",
              "      <td>0.17</td>\n",
              "    </tr>\n",
              "    <tr>\n",
              "      <th>2</th>\n",
              "      <td>76.46</td>\n",
              "      <td>9</td>\n",
              "      <td>0.14</td>\n",
              "      <td>0.31</td>\n",
              "    </tr>\n",
              "    <tr>\n",
              "      <th>3</th>\n",
              "      <td>79.19</td>\n",
              "      <td>8</td>\n",
              "      <td>0.12</td>\n",
              "      <td>0.43</td>\n",
              "    </tr>\n",
              "    <tr>\n",
              "      <th>4</th>\n",
              "      <td>81.92</td>\n",
              "      <td>14</td>\n",
              "      <td>0.22</td>\n",
              "      <td>0.65</td>\n",
              "    </tr>\n",
              "    <tr>\n",
              "      <th>5</th>\n",
              "      <td>84.65</td>\n",
              "      <td>10</td>\n",
              "      <td>0.15</td>\n",
              "      <td>0.80</td>\n",
              "    </tr>\n",
              "    <tr>\n",
              "      <th>6</th>\n",
              "      <td>87.38</td>\n",
              "      <td>9</td>\n",
              "      <td>0.14</td>\n",
              "      <td>0.94</td>\n",
              "    </tr>\n",
              "    <tr>\n",
              "      <th>7</th>\n",
              "      <td>90.11</td>\n",
              "      <td>2</td>\n",
              "      <td>0.03</td>\n",
              "      <td>0.97</td>\n",
              "    </tr>\n",
              "    <tr>\n",
              "      <th>8</th>\n",
              "      <td>92.84</td>\n",
              "      <td>2</td>\n",
              "      <td>0.03</td>\n",
              "      <td>1.00</td>\n",
              "    </tr>\n",
              "    <tr>\n",
              "      <th>9</th>\n",
              "      <td>95.57</td>\n",
              "      <td>0</td>\n",
              "      <td>0.00</td>\n",
              "      <td>1.00</td>\n",
              "    </tr>\n",
              "  </tbody>\n",
              "</table>\n",
              "</div>"
            ],
            "text/plain": [
              "      xi  ni    fi   cfi\n",
              "0  71.00   4  0.06  0.06\n",
              "1  73.73   7  0.11  0.17\n",
              "2  76.46   9  0.14  0.31\n",
              "3  79.19   8  0.12  0.43\n",
              "4  81.92  14  0.22  0.65\n",
              "5  84.65  10  0.15  0.80\n",
              "6  87.38   9  0.14  0.94\n",
              "7  90.11   2  0.03  0.97\n",
              "8  92.84   2  0.03  1.00\n",
              "9  95.57   0  0.00  1.00"
            ]
          },
          "metadata": {}
        }
      ]
    },
    {
      "cell_type": "code",
      "metadata": {
        "colab": {
          "base_uri": "https://localhost:8080/",
          "height": 298
        },
        "id": "Phorwnmw2tvO",
        "outputId": "b8909f98-98ae-4fb1-ef58-2880b6785774"
      },
      "source": [
        "_,axe = plt.subplots()\n",
        "axe.plot(df1['xi'], df1['cfi'], color='#212121', alpha=0.7,\n",
        "    linewidth=3, solid_capstyle='round', zorder=2)\n",
        "axe.set_title('cumulate')"
      ],
      "execution_count": null,
      "outputs": [
        {
          "output_type": "execute_result",
          "data": {
            "text/plain": [
              "Text(0.5, 1.0, 'cumulate')"
            ]
          },
          "metadata": {},
          "execution_count": 34
        },
        {
          "output_type": "display_data",
          "data": {
            "image/png": "[encoded data removed]",
            "text/plain": [
              "<Figure size 432x288 with 1 Axes>"
            ]
          },
          "metadata": {
            "needs_background": "light"
          }
        }
      ]
    },
    {
      "cell_type": "code",
      "metadata": {
        "id": "fGN452kc3H0l"
      },
      "source": [
        "Xmode=X.mode(dropna=True)    #моду\n",
        "md_X=X.median(skipna=True)   #медиану\n",
        "mean_X=X.mean()              #выборочную среднюю\n",
        "var_X=X.var()                #выборочную дисперсию\n",
        "std_X=X.std()                #выборочное среднее квадратическое отклонение\n",
        "cv_X=std_X/mean_X*100        #коэффициент вариации\n",
        "skew_X=X.skew(skipna=True)   #асимметрию\n",
        "kurt_X=X.kurt()              #эксцесс"
      ],
      "execution_count": null,
      "outputs": []
    },
    {
      "cell_type": "code",
      "metadata": {
        "colab": {
          "base_uri": "https://localhost:8080/"
        },
        "id": "lJU-Rlxr2t7V",
        "outputId": "b2109482-6cb4-4ca3-ca60-88603b55e878"
      },
      "source": [
        "print(f'Mode={Xmode}\\n ') #mode est egale a 76\n",
        "print(f'Median={md_X}\\n ')\n",
        "print(f'Moyenne={mean_X}\\n')\n",
        "print(f'Variance={var_X}\\n')\n",
        "print(f'Std ={std_X} \\n') \n",
        "print(f'Coeffiecient Variation = {cv_X}\\n ') #cherche aussi sa signification \n",
        "print(f'Asymetrie = {skew_X}\\n ') #cherche a savoir si c asymetrie a droite ou a gauche \n",
        "print(f'Express = {kurt_X}') # de meme pour celui la"
      ],
      "execution_count": null,
      "outputs": [
        {
          "output_type": "stream",
          "name": "stdout",
          "text": [
            "Mode=0    76\n",
            "dtype: int64\n",
            " \n",
            "Median=82.0\n",
            " \n",
            "Moyenne=81.15384615384616\n",
            "\n",
            "Variance=30.819711538461554\n",
            "\n",
            "Std =5.551550372505104 \n",
            "\n",
            "Coeffiecient Variation = 6.84077297085937\n",
            " \n",
            "Asymetrie = 0.0039004352711844614\n",
            " \n",
            "Express = -0.8026946873478229\n"
          ]
        }
      ]
    },
    {
      "cell_type": "markdown",
      "metadata": {
        "id": "jgiMGI0t6hsD"
      },
      "source": [
        "Построить доверительные интервалы для истинного значения измеряемой величины и среднего квадратического отклонения генеральной совокупности"
      ]
    },
    {
      "cell_type": "markdown",
      "metadata": {
        "id": "_Yj7PVJ46k_A"
      },
      "source": [
        "Для математического ожидания"
      ]
    },
    {
      "cell_type": "code",
      "metadata": {
        "colab": {
          "base_uri": "https://localhost:8080/"
        },
        "id": "dCKq-kk86hLj",
        "outputId": "8460fc2d-f1a7-44f2-8939-313284bb117f"
      },
      "source": [
        "s=X.std() #ecart type\n",
        "xba=X.mean() #moyenne\n",
        "gamma=0.95\n",
        "t=1.997137908   #=TINV(0,05; 65) по экселе  // 65 est effectif de ta serie\n",
        "left_m=round(xba-t*(s/math.sqrt(n)),4)\n",
        "right_m=round(xba+t*(s/math.sqrt(n)),4)\n",
        "print('Confidence interval of mathematical expectation ', left_m ,'< m <', right_m)"
      ],
      "execution_count": null,
      "outputs": [
        {
          "output_type": "stream",
          "name": "stdout",
          "text": [
            "Confidence interval of mathematical expectation  79.7786 < m < 82.529\n"
          ]
        }
      ]
    },
    {
      "cell_type": "markdown",
      "metadata": {
        "id": "UAOR28_c8O9h"
      },
      "source": [
        "для среднего квадратического отклонения"
      ]
    },
    {
      "cell_type": "code",
      "metadata": {
        "colab": {
          "base_uri": "https://localhost:8080/"
        },
        "id": "q4PdIFgn8N25",
        "outputId": "71e89b20-6de1-46b9-b0e1-abc7c05e6581"
      },
      "source": [
        "ki1_right=43.77595   # CHIINV(1,95/2;64) по эксель formule du khideux si tu veux comprendre \n",
        "ki2_left=54.04233   # CHIINV(0,05/2;64) по эксель\n",
        "sigm_left=(((n-1)*(s*s))/ki2_left)\n",
        "sigm_right=(((n-1)*(s*s))/ki1_right)\n",
        "print('Confidence interval of standard deviation',round(sigm_left,3) ,'< s^2 <', round(sigm_right,3))\n",
        "\n",
        "\n"
      ],
      "execution_count": null,
      "outputs": [
        {
          "output_type": "stream",
          "name": "stdout",
          "text": [
            "Confidence interval of standard deviation 36.498 < s^2 < 45.058\n"
          ]
        }
      ]
    },
    {
      "cell_type": "code",
      "metadata": {
        "id": "njPauZ2K_gfx"
      },
      "source": [
        "#VOIR LE POWERPOINT DU PREMIER LEKSIA TU VAS COMPRENDRE BEAUCOUP DU LAB"
      ],
      "execution_count": null,
      "outputs": []
    },
    {
      "cell_type": "code",
      "metadata": {
        "id": "7mQPQH1y_n-X"
      },
      "source": [
        ""
      ],
      "execution_count": null,
      "outputs": []
    },
    {
      "cell_type": "code",
      "metadata": {
        "id": "QnsO0hvmyofI"
      },
      "source": [
        ""
      ],
      "execution_count": null,
      "outputs": []
    },
    {
      "cell_type": "code",
      "metadata": {
        "id": "9sUuw35dyonl"
      },
      "source": [
        ""
      ],
      "execution_count": null,
      "outputs": []
    },
    {
      "cell_type": "code",
      "metadata": {
        "id": "-h32Y8Szyov8"
      },
      "source": [
        ""
      ],
      "execution_count": null,
      "outputs": []
    },
    {
      "cell_type": "markdown",
      "metadata": {
        "id": "wJRjiLa-ypR1"
      },
      "source": [
        "**LAB2**"
      ]
    },
    {
      "cell_type": "markdown",
      "metadata": {
        "id": "jR_COliVy-7Q"
      },
      "source": [
        "**1.Построить эмпирическую (полигон) и теоретическую (нормальную) кривую распределения.**"
      ]
    },
    {
      "cell_type": "code",
      "metadata": {
        "colab": {
          "base_uri": "https://localhost:8080/",
          "height": 363
        },
        "id": "gK6vqO1eyukI",
        "outputId": "b6013dea-c54a-410c-e521-bdfc20ca9112"
      },
      "source": [
        "data = pd.DataFrame(pd.read_excel(\"eli.xlsm\" , sheet_name=\"dan\"))\n",
        "display(data)"
      ],
      "execution_count": 4,
      "outputs": [
        {
          "output_type": "display_data",
          "data": {
            "text/html": [
              "<div>\n",
              "<style scoped>\n",
              "    .dataframe tbody tr th:only-of-type {\n",
              "        vertical-align: middle;\n",
              "    }\n",
              "\n",
              "    .dataframe tbody tr th {\n",
              "        vertical-align: top;\n",
              "    }\n",
              "\n",
              "    .dataframe thead th {\n",
              "        text-align: right;\n",
              "    }\n",
              "</style>\n",
              "<table border=\"1\" class=\"dataframe\">\n",
              "  <thead>\n",
              "    <tr style=\"text-align: right;\">\n",
              "      <th></th>\n",
              "      <th>xi</th>\n",
              "      <th>ni</th>\n",
              "      <th>xi-xsr</th>\n",
              "      <th>ui</th>\n",
              "      <th>fi(ui)</th>\n",
              "      <th>yi</th>\n",
              "      <th>ni'</th>\n",
              "    </tr>\n",
              "  </thead>\n",
              "  <tbody>\n",
              "    <tr>\n",
              "      <th>0</th>\n",
              "      <td>71.00</td>\n",
              "      <td>4</td>\n",
              "      <td>-10.15</td>\n",
              "      <td>-1.828829</td>\n",
              "      <td>0.074927</td>\n",
              "      <td>2.395627</td>\n",
              "      <td>2</td>\n",
              "    </tr>\n",
              "    <tr>\n",
              "      <th>1</th>\n",
              "      <td>73.13</td>\n",
              "      <td>7</td>\n",
              "      <td>-8.02</td>\n",
              "      <td>-1.445045</td>\n",
              "      <td>0.140434</td>\n",
              "      <td>4.490099</td>\n",
              "      <td>4</td>\n",
              "    </tr>\n",
              "    <tr>\n",
              "      <th>2</th>\n",
              "      <td>76.46</td>\n",
              "      <td>9</td>\n",
              "      <td>-4.69</td>\n",
              "      <td>-0.845045</td>\n",
              "      <td>0.279155</td>\n",
              "      <td>8.925406</td>\n",
              "      <td>9</td>\n",
              "    </tr>\n",
              "    <tr>\n",
              "      <th>3</th>\n",
              "      <td>79.19</td>\n",
              "      <td>8</td>\n",
              "      <td>-1.96</td>\n",
              "      <td>-0.353153</td>\n",
              "      <td>0.374825</td>\n",
              "      <td>11.984257</td>\n",
              "      <td>12</td>\n",
              "    </tr>\n",
              "    <tr>\n",
              "      <th>4</th>\n",
              "      <td>81.92</td>\n",
              "      <td>14</td>\n",
              "      <td>0.77</td>\n",
              "      <td>0.138739</td>\n",
              "      <td>0.395121</td>\n",
              "      <td>12.633199</td>\n",
              "      <td>13</td>\n",
              "    </tr>\n",
              "    <tr>\n",
              "      <th>5</th>\n",
              "      <td>84.65</td>\n",
              "      <td>10</td>\n",
              "      <td>3.50</td>\n",
              "      <td>0.630631</td>\n",
              "      <td>0.327003</td>\n",
              "      <td>10.455257</td>\n",
              "      <td>10</td>\n",
              "    </tr>\n",
              "    <tr>\n",
              "      <th>6</th>\n",
              "      <td>87.36</td>\n",
              "      <td>9</td>\n",
              "      <td>6.21</td>\n",
              "      <td>1.118919</td>\n",
              "      <td>0.213327</td>\n",
              "      <td>6.820704</td>\n",
              "      <td>7</td>\n",
              "    </tr>\n",
              "    <tr>\n",
              "      <th>7</th>\n",
              "      <td>90.11</td>\n",
              "      <td>2</td>\n",
              "      <td>8.96</td>\n",
              "      <td>1.614414</td>\n",
              "      <td>0.108381</td>\n",
              "      <td>3.465252</td>\n",
              "      <td>3</td>\n",
              "    </tr>\n",
              "    <tr>\n",
              "      <th>8</th>\n",
              "      <td>92.84</td>\n",
              "      <td>2</td>\n",
              "      <td>11.69</td>\n",
              "      <td>2.106306</td>\n",
              "      <td>0.043404</td>\n",
              "      <td>1.387758</td>\n",
              "      <td>1</td>\n",
              "    </tr>\n",
              "    <tr>\n",
              "      <th>9</th>\n",
              "      <td>95.57</td>\n",
              "      <td>0</td>\n",
              "      <td>14.42</td>\n",
              "      <td>2.598198</td>\n",
              "      <td>0.013647</td>\n",
              "      <td>0.436326</td>\n",
              "      <td>0</td>\n",
              "    </tr>\n",
              "  </tbody>\n",
              "</table>\n",
              "</div>"
            ],
            "text/plain": [
              "      xi  ni  xi-xsr        ui    fi(ui)         yi  ni'\n",
              "0  71.00   4  -10.15 -1.828829  0.074927   2.395627    2\n",
              "1  73.13   7   -8.02 -1.445045  0.140434   4.490099    4\n",
              "2  76.46   9   -4.69 -0.845045  0.279155   8.925406    9\n",
              "3  79.19   8   -1.96 -0.353153  0.374825  11.984257   12\n",
              "4  81.92  14    0.77  0.138739  0.395121  12.633199   13\n",
              "5  84.65  10    3.50  0.630631  0.327003  10.455257   10\n",
              "6  87.36   9    6.21  1.118919  0.213327   6.820704    7\n",
              "7  90.11   2    8.96  1.614414  0.108381   3.465252    3\n",
              "8  92.84   2   11.69  2.106306  0.043404   1.387758    1\n",
              "9  95.57   0   14.42  2.598198  0.013647   0.436326    0"
            ]
          },
          "metadata": {}
        }
      ]
    },
    {
      "cell_type": "code",
      "metadata": {
        "colab": {
          "base_uri": "https://localhost:8080/",
          "height": 298
        },
        "id": "PcftFpMl5Vmy",
        "outputId": "e50c7307-aaa0-462a-febe-4339f476476c"
      },
      "source": [
        "_,ax = plt.subplots()\n",
        "ax.plot(data['xi'], data['ni'])\n",
        "ax.plot(data['xi'], data[\"ni'\"])\n",
        "ax.legend([\"ni\", \"ni'\"])\n",
        "ax.set_title('Plot empirical (polygon) and theoretical (normal) distribution curves')"
      ],
      "execution_count": 5,
      "outputs": [
        {
          "output_type": "execute_result",
          "data": {
            "text/plain": [
              "Text(0.5, 1.0, 'Plot empirical (polygon) and theoretical (normal) distribution curves')"
            ]
          },
          "metadata": {},
          "execution_count": 5
        },
        {
          "output_type": "display_data",
          "data": {
            "image/png": "[encoded data removed]",
            "text/plain": [
              "<Figure size 432x288 with 1 Axes>"
            ]
          },
          "metadata": {
            "needs_background": "light"
          }
        }
      ]
    },
    {
      "cell_type": "markdown",
      "metadata": {
        "id": "sEjw7Rpv7EsH"
      },
      "source": [
        "**a**-**Пирсона**"
      ]
    },
    {
      "cell_type": "code",
      "metadata": {
        "colab": {
          "base_uri": "https://localhost:8080/",
          "height": 241
        },
        "id": "GkU8QZeG66l0",
        "outputId": "b0df497e-ce30-428f-dc01-b7c63388ef72"
      },
      "source": [
        "pearson=pd.DataFrame(pd.read_excel(\"eli.xlsm\",sheet_name=\"pears\"))\n",
        "display(pearson)\n",
        "alpha=0.95\n",
        "f=len(pearson)-2-1\n",
        "KhiВ = pearson['(nk-npk)^2/npk'].values.sum()\n",
        "Fchi2=chi2.ppf(alpha,f)\n",
        "if KhiВ < Fchi2:\n",
        "  print('Гипотеза H0 принимаем :' , KhiВ, '<', Fchi2)\n",
        "else:\n",
        "  print('Гипотеза H0 отклоняем :' , KhiВ , '>=', Fchi2)\n",
        "print()"
      ],
      "execution_count": 8,
      "outputs": [
        {
          "output_type": "display_data",
          "data": {
            "text/html": [
              "<div>\n",
              "<style scoped>\n",
              "    .dataframe tbody tr th:only-of-type {\n",
              "        vertical-align: middle;\n",
              "    }\n",
              "\n",
              "    .dataframe tbody tr th {\n",
              "        vertical-align: top;\n",
              "    }\n",
              "\n",
              "    .dataframe thead th {\n",
              "        text-align: right;\n",
              "    }\n",
              "</style>\n",
              "<table border=\"1\" class=\"dataframe\">\n",
              "  <thead>\n",
              "    <tr style=\"text-align: right;\">\n",
              "      <th></th>\n",
              "      <th>ni</th>\n",
              "      <th>левая</th>\n",
              "      <th>правая</th>\n",
              "      <th>p</th>\n",
              "      <th>npk</th>\n",
              "      <th>(nk-npk)^2/npk</th>\n",
              "    </tr>\n",
              "  </thead>\n",
              "  <tbody>\n",
              "    <tr>\n",
              "      <th>0</th>\n",
              "      <td>11</td>\n",
              "      <td>69.64</td>\n",
              "      <td>75.10</td>\n",
              "      <td>0.118791</td>\n",
              "      <td>7.721429</td>\n",
              "      <td>1.392</td>\n",
              "    </tr>\n",
              "    <tr>\n",
              "      <th>1</th>\n",
              "      <td>17</td>\n",
              "      <td>75.10</td>\n",
              "      <td>80.56</td>\n",
              "      <td>0.319833</td>\n",
              "      <td>20.789141</td>\n",
              "      <td>0.691</td>\n",
              "    </tr>\n",
              "    <tr>\n",
              "      <th>2</th>\n",
              "      <td>14</td>\n",
              "      <td>80.56</td>\n",
              "      <td>83.29</td>\n",
              "      <td>0.192429</td>\n",
              "      <td>12.507854</td>\n",
              "      <td>0.178</td>\n",
              "    </tr>\n",
              "    <tr>\n",
              "      <th>3</th>\n",
              "      <td>10</td>\n",
              "      <td>83.29</td>\n",
              "      <td>86.02</td>\n",
              "      <td>0.159788</td>\n",
              "      <td>10.386229</td>\n",
              "      <td>0.014</td>\n",
              "    </tr>\n",
              "    <tr>\n",
              "      <th>4</th>\n",
              "      <td>13</td>\n",
              "      <td>86.02</td>\n",
              "      <td>96.94</td>\n",
              "      <td>0.187893</td>\n",
              "      <td>12.213072</td>\n",
              "      <td>0.051</td>\n",
              "    </tr>\n",
              "  </tbody>\n",
              "</table>\n",
              "</div>"
            ],
            "text/plain": [
              "   ni  левая  правая         p        npk  (nk-npk)^2/npk\n",
              "0  11  69.64   75.10  0.118791   7.721429           1.392\n",
              "1  17  75.10   80.56  0.319833  20.789141           0.691\n",
              "2  14  80.56   83.29  0.192429  12.507854           0.178\n",
              "3  10  83.29   86.02  0.159788  10.386229           0.014\n",
              "4  13  86.02   96.94  0.187893  12.213072           0.051"
            ]
          },
          "metadata": {}
        },
        {
          "output_type": "stream",
          "name": "stdout",
          "text": [
            "Гипотеза H0 принимаем : 2.3259999999999996 < 5.991464547107979\n",
            "\n"
          ]
        }
      ]
    },
    {
      "cell_type": "markdown",
      "metadata": {
        "id": "sdoy40XsJw-q"
      },
      "source": [
        "**б-Колмогорова**"
      ]
    },
    {
      "cell_type": "code",
      "metadata": {
        "colab": {
          "base_uri": "https://localhost:8080/",
          "height": 450
        },
        "id": "Nu9mzFxfIH2x",
        "outputId": "8988eaad-a110-481d-b20f-a5af290fb426"
      },
      "source": [
        "kolmogorov =pd.DataFrame(pd.read_excel(\"eli.xlsm\",sheet_name=\"kolm\"))\n",
        "display(kolmogorov)\n",
        "lambdax=kolmogorov[\"|wi-wi'|\"].values.max()/math.sqrt(n)\n",
        "print()\n",
        "print('lambda = ', round(lambdax,3),'\\n') \n",
        "Klbd =0.9639          #по таблицы K(lambda)\n",
        "print('Klambda =' , Klbd , ' >' , 0.05 ,'Это условие выполняется.')\n",
        "print('Гипотезу о соответствии данного распределения нормальному закону распределения принимаем')"
      ],
      "execution_count": 21,
      "outputs": [
        {
          "output_type": "display_data",
          "data": {
            "text/html": [
              "<div>\n",
              "<style scoped>\n",
              "    .dataframe tbody tr th:only-of-type {\n",
              "        vertical-align: middle;\n",
              "    }\n",
              "\n",
              "    .dataframe tbody tr th {\n",
              "        vertical-align: top;\n",
              "    }\n",
              "\n",
              "    .dataframe thead th {\n",
              "        text-align: right;\n",
              "    }\n",
              "</style>\n",
              "<table border=\"1\" class=\"dataframe\">\n",
              "  <thead>\n",
              "    <tr style=\"text-align: right;\">\n",
              "      <th></th>\n",
              "      <th>xi</th>\n",
              "      <th>ni</th>\n",
              "      <th>ni'</th>\n",
              "      <th>wi</th>\n",
              "      <th>wi'</th>\n",
              "      <th>|wi-wi'|</th>\n",
              "    </tr>\n",
              "  </thead>\n",
              "  <tbody>\n",
              "    <tr>\n",
              "      <th>0</th>\n",
              "      <td>71.00</td>\n",
              "      <td>4</td>\n",
              "      <td>2</td>\n",
              "      <td>4</td>\n",
              "      <td>2</td>\n",
              "      <td>2</td>\n",
              "    </tr>\n",
              "    <tr>\n",
              "      <th>1</th>\n",
              "      <td>73.73</td>\n",
              "      <td>7</td>\n",
              "      <td>5</td>\n",
              "      <td>11</td>\n",
              "      <td>7</td>\n",
              "      <td>4</td>\n",
              "    </tr>\n",
              "    <tr>\n",
              "      <th>2</th>\n",
              "      <td>76.46</td>\n",
              "      <td>9</td>\n",
              "      <td>9</td>\n",
              "      <td>20</td>\n",
              "      <td>16</td>\n",
              "      <td>4</td>\n",
              "    </tr>\n",
              "    <tr>\n",
              "      <th>3</th>\n",
              "      <td>79.19</td>\n",
              "      <td>8</td>\n",
              "      <td>12</td>\n",
              "      <td>28</td>\n",
              "      <td>28</td>\n",
              "      <td>0</td>\n",
              "    </tr>\n",
              "    <tr>\n",
              "      <th>4</th>\n",
              "      <td>81.92</td>\n",
              "      <td>14</td>\n",
              "      <td>13</td>\n",
              "      <td>42</td>\n",
              "      <td>41</td>\n",
              "      <td>1</td>\n",
              "    </tr>\n",
              "    <tr>\n",
              "      <th>5</th>\n",
              "      <td>84.65</td>\n",
              "      <td>10</td>\n",
              "      <td>10</td>\n",
              "      <td>52</td>\n",
              "      <td>51</td>\n",
              "      <td>1</td>\n",
              "    </tr>\n",
              "    <tr>\n",
              "      <th>6</th>\n",
              "      <td>87.36</td>\n",
              "      <td>9</td>\n",
              "      <td>7</td>\n",
              "      <td>61</td>\n",
              "      <td>58</td>\n",
              "      <td>3</td>\n",
              "    </tr>\n",
              "    <tr>\n",
              "      <th>7</th>\n",
              "      <td>90.11</td>\n",
              "      <td>2</td>\n",
              "      <td>3</td>\n",
              "      <td>63</td>\n",
              "      <td>61</td>\n",
              "      <td>2</td>\n",
              "    </tr>\n",
              "    <tr>\n",
              "      <th>8</th>\n",
              "      <td>92.84</td>\n",
              "      <td>2</td>\n",
              "      <td>1</td>\n",
              "      <td>65</td>\n",
              "      <td>62</td>\n",
              "      <td>3</td>\n",
              "    </tr>\n",
              "    <tr>\n",
              "      <th>9</th>\n",
              "      <td>95.57</td>\n",
              "      <td>0</td>\n",
              "      <td>0</td>\n",
              "      <td>65</td>\n",
              "      <td>62</td>\n",
              "      <td>3</td>\n",
              "    </tr>\n",
              "  </tbody>\n",
              "</table>\n",
              "</div>"
            ],
            "text/plain": [
              "      xi  ni  ni'  wi  wi'  |wi-wi'|\n",
              "0  71.00   4    2   4    2         2\n",
              "1  73.73   7    5  11    7         4\n",
              "2  76.46   9    9  20   16         4\n",
              "3  79.19   8   12  28   28         0\n",
              "4  81.92  14   13  42   41         1\n",
              "5  84.65  10   10  52   51         1\n",
              "6  87.36   9    7  61   58         3\n",
              "7  90.11   2    3  63   61         2\n",
              "8  92.84   2    1  65   62         3\n",
              "9  95.57   0    0  65   62         3"
            ]
          },
          "metadata": {}
        },
        {
          "output_type": "stream",
          "name": "stdout",
          "text": [
            "\n",
            "lambda =  0.496 \n",
            "\n",
            "Klambda = 0.9639  > 0.05 Это условие выполняется.\n",
            "Гипотезу о соответствии данного распределения нормальному закону распределения принимаем\n"
          ]
        }
      ]
    },
    {
      "cell_type": "markdown",
      "metadata": {
        "id": "usYLNytGKKax"
      },
      "source": [
        "**в-Романовского**"
      ]
    },
    {
      "cell_type": "code",
      "metadata": {
        "colab": {
          "base_uri": "https://localhost:8080/"
        },
        "id": "rFswzcX-KJz3",
        "outputId": "593874e1-5ce6-4b15-d80f-70ed83e6867b"
      },
      "source": [
        "if (abs(KhiВ - f)/(math.sqrt(2*f))) >= 3: #f voir dans pearson\n",
        "  print('Гипотеза H0 отвергается , т.е. оно больше 3 :',abs(KhiВ - f)/(math.sqrt(2*f) ))\n",
        "else:\n",
        "  print('Гипотеза H0 не отвергается ,  т.е. оно меньше 3 :',abs(KhiВ - f)/(math.sqrt(2*f)))\n",
        "print()"
      ],
      "execution_count": 22,
      "outputs": [
        {
          "output_type": "stream",
          "name": "stdout",
          "text": [
            "Гипотеза H0 не отвергается ,  т.е. оно меньше 3 : 0.1629999999999998\n",
            "\n"
          ]
        }
      ]
    },
    {
      "cell_type": "markdown",
      "metadata": {
        "id": "Llpr-I4bKe9E"
      },
      "source": [
        "**г-Ястремского**"
      ]
    },
    {
      "cell_type": "code",
      "metadata": {
        "colab": {
          "base_uri": "https://localhost:8080/",
          "height": 258
        },
        "id": "OkutNly8KeMM",
        "outputId": "ba77a16c-475d-4a1e-93cf-2a45aefd09b2"
      },
      "source": [
        "yastremski=pd.DataFrame(pd.read_excel(\"eli.xlsm\", sheet_name=\"yes\"))\n",
        "display(yastremski)\n",
        "print()\n",
        "c=(yastremski['(ni-npi)^2']/yastremski['npi(1-pi)']).values.sum()\n",
        "print('C =', c)\n",
        "k=5\n",
        "Teta=0.6\n",
        "J=abs(c-k)\n",
        "op=2*k+4*Teta\n",
        "row= J/op\n",
        "if (row < 3) :\n",
        "  print(row,'<',3 ,': гипотеза о нормальном распределении экспериментальных данных принимается')\n",
        "else:\n",
        "  print(row,'>',3 ,': гипотеза о нормальном распределении экспериментальных данных не принимается')"
      ],
      "execution_count": 25,
      "outputs": [
        {
          "output_type": "display_data",
          "data": {
            "text/html": [
              "<div>\n",
              "<style scoped>\n",
              "    .dataframe tbody tr th:only-of-type {\n",
              "        vertical-align: middle;\n",
              "    }\n",
              "\n",
              "    .dataframe tbody tr th {\n",
              "        vertical-align: top;\n",
              "    }\n",
              "\n",
              "    .dataframe thead th {\n",
              "        text-align: right;\n",
              "    }\n",
              "</style>\n",
              "<table border=\"1\" class=\"dataframe\">\n",
              "  <thead>\n",
              "    <tr style=\"text-align: right;\">\n",
              "      <th></th>\n",
              "      <th>ni</th>\n",
              "      <th>левая</th>\n",
              "      <th>правая</th>\n",
              "      <th>pi</th>\n",
              "      <th>npi</th>\n",
              "      <th>(ni-npi)^2</th>\n",
              "      <th>npi(1-pi)</th>\n",
              "    </tr>\n",
              "  </thead>\n",
              "  <tbody>\n",
              "    <tr>\n",
              "      <th>0</th>\n",
              "      <td>11</td>\n",
              "      <td>69.64</td>\n",
              "      <td>75.10</td>\n",
              "      <td>0.118791</td>\n",
              "      <td>7.721429</td>\n",
              "      <td>10.749027</td>\n",
              "      <td>6.804191</td>\n",
              "    </tr>\n",
              "    <tr>\n",
              "      <th>1</th>\n",
              "      <td>17</td>\n",
              "      <td>75.10</td>\n",
              "      <td>80.56</td>\n",
              "      <td>0.319833</td>\n",
              "      <td>20.789141</td>\n",
              "      <td>14.357587</td>\n",
              "      <td>14.140089</td>\n",
              "    </tr>\n",
              "    <tr>\n",
              "      <th>2</th>\n",
              "      <td>14</td>\n",
              "      <td>80.56</td>\n",
              "      <td>83.29</td>\n",
              "      <td>0.192429</td>\n",
              "      <td>12.507854</td>\n",
              "      <td>2.226498</td>\n",
              "      <td>10.100986</td>\n",
              "    </tr>\n",
              "    <tr>\n",
              "      <th>3</th>\n",
              "      <td>10</td>\n",
              "      <td>83.29</td>\n",
              "      <td>86.02</td>\n",
              "      <td>0.159788</td>\n",
              "      <td>10.386229</td>\n",
              "      <td>0.149173</td>\n",
              "      <td>8.726633</td>\n",
              "    </tr>\n",
              "    <tr>\n",
              "      <th>4</th>\n",
              "      <td>13</td>\n",
              "      <td>86.02</td>\n",
              "      <td>96.94</td>\n",
              "      <td>0.187893</td>\n",
              "      <td>12.213072</td>\n",
              "      <td>0.619256</td>\n",
              "      <td>9.918316</td>\n",
              "    </tr>\n",
              "  </tbody>\n",
              "</table>\n",
              "</div>"
            ],
            "text/plain": [
              "   ni  левая  правая        pi        npi  (ni-npi)^2  npi(1-pi)\n",
              "0  11  69.64   75.10  0.118791   7.721429   10.749027   6.804191\n",
              "1  17  75.10   80.56  0.319833  20.789141   14.357587  14.140089\n",
              "2  14  80.56   83.29  0.192429  12.507854    2.226498  10.100986\n",
              "3  10  83.29   86.02  0.159788  10.386229    0.149173   8.726633\n",
              "4  13  86.02   96.94  0.187893  12.213072    0.619256   9.918316"
            ]
          },
          "metadata": {}
        },
        {
          "output_type": "stream",
          "name": "stdout",
          "text": [
            "\n",
            "C = 2.8951005631601454\n",
            "0.16974995458385925 < 3 : гипотеза о нормальном распределении экспериментальных данных принимается\n"
          ]
        }
      ]
    },
    {
      "cell_type": "markdown",
      "metadata": {
        "id": "WfsSwlwmOK9y"
      },
      "source": [
        "**д-приближенный критерий**"
      ]
    },
    {
      "cell_type": "code",
      "metadata": {
        "colab": {
          "base_uri": "https://localhost:8080/"
        },
        "id": "0UcyBjACOKRO",
        "outputId": "e12dfa29-7e58-4fd2-e697-ac484fe92704"
      },
      "source": [
        "As = 0.0039004352711844614 #Asymetrie \n",
        "Ex =-0.8026946873478229   #Express \n",
        "alpha=0.05\n",
        "k=2 #Число степеней свободы\n",
        "chi2_choose=5.9915 #table khi\n",
        "Sas=np.sqrt((6*(n-1))/((n+1)*(n+3)))\n",
        "print('Sas =',Sas)\n",
        "Sex=np.sqrt((24*n*(n-2)*(n-5))/((n-1)^2*(n+3)*(n+5)))\n",
        "print('Sex =',Sex)\n",
        "chi2_crit=(As**2/Sas**2)+(Ex**2/Sex**2)\n",
        "print('chi2_crit =',chi2_crit)\n",
        "print()\n",
        "if chi2_choose < chi2_crit:\n",
        "  print('Гипотезу о нормальном распределении выборочной совокупности принимаем ',chi2_choose,'<',chi2_crit)\n",
        "else:\n",
        "  print('Гипотезу о нормальном распределении выборочной')"
      ],
      "execution_count": 27,
      "outputs": [
        {
          "output_type": "stream",
          "name": "stdout",
          "text": [
            "Sas = 0.29250896965085227\n",
            "Sex = 24.80474670498567\n",
            "chi2_crit = 0.0012250102963206131\n",
            "\n",
            "Гипотезу о нормальном распределении выборочной\n"
          ]
        }
      ]
    }
  ]
}